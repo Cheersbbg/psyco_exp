{
 "cells": [
  {
   "cell_type": "code",
   "execution_count": 1,
   "metadata": {},
   "outputs": [
    {
     "name": "stdout",
     "output_type": "stream",
     "text": [
      "/Users/qianxigong/Documents/108/gnnbackup/log\n"
     ]
    }
   ],
   "source": [
    "import os\n",
    "print(os.getcwd())"
   ]
  },
  {
   "cell_type": "code",
   "execution_count": 2,
   "metadata": {},
   "outputs": [],
   "source": [
    "pth = \"/Users/qianxigong/Downloads/Introspection\"\n",
    "\n",
    "firstlevel_firstcsp=[\"righttomid\",\"midtoright\"] # classify two direction in right hand \n",
    "firstlevel_secondcsp=[\"lefttomid\",\"midtoleft\"] # classify two direction in left hand \n",
    "\n",
    "secondlevel_firstcsp=[\"midtoleft\",\"midtoright\"] # classify right vs left in direction 1\n",
    "secondlevel_secondcsp=[\"lefttomid\",\"righttomid\"]# classify right vs left in direction 2"
   ]
  },
  {
   "cell_type": "code",
   "execution_count": 3,
   "metadata": {},
   "outputs": [],
   "source": [
    "label_lookup = {\n",
    "    (0, 0, 0): [6, 7, 7, 7, 8, 9, 9, 9, 10, 11, 11, 11],\n",
    "    (0, 0, 1): [6, 6, 7, 7, 8, 8, 9, 9, 10, 10, 11, 11],\n",
    "    (0, 0, 2): [6, 6, 6, 7, 8, 8, 8, 9, 10, 10, 10, 11],\n",
    "    (0, 1, 0): [5, 4, 4, 4, 3, 2, 2, 2, 1, 0, 0, 0],\n",
    "    (0, 1, 1): [5, 5, 4, 4, 3, 3, 2, 2, 1, 1, 0, 0],\n",
    "    (0, 1, 2): [5, 5, 5, 4, 3, 3, 3, 2, 1, 1, 1, 0],\n",
    "    (1, 0, 0): [11, 10, 10, 10, 9, 8, 8, 8, 7, 6, 6, 6],\n",
    "    (1, 0, 1): [11, 11, 10, 10, 9, 9, 8, 8, 7, 7, 6, 6],\n",
    "    (1, 0, 2): [11, 11, 11, 10, 9, 9, 9, 8, 7, 7, 7, 6],\n",
    "    (1, 1, 0): [0, 1, 1, 1, 2, 3, 3, 3, 4, 5, 5, 5],\n",
    "    (1, 1, 1): [0, 0, 1, 1, 2, 2, 3, 3, 4, 4, 5, 5],\n",
    "    (1, 1, 2): [0, 0, 0, 1, 2, 2, 2, 3, 4, 4, 4, 5],\n",
    "}"
   ]
  },
  {
   "cell_type": "code",
   "execution_count": 4,
   "metadata": {},
   "outputs": [
    {
     "data": {
      "text/plain": [
       "{(0, 0, 0): [8, 9, 9, 9, 10, 11, 11, 11, 12, 13, 13, 13],\n",
       " (0, 0, 1): [8, 8, 9, 9, 10, 10, 11, 11, 12, 12, 13, 13],\n",
       " (0, 0, 2): [8, 8, 8, 9, 10, 10, 10, 11, 12, 12, 12, 13],\n",
       " (0, 1, 0): [7, 6, 6, 6, 5, 4, 4, 4, 3, 2, 2, 2],\n",
       " (0, 1, 1): [7, 7, 6, 6, 5, 5, 4, 4, 3, 3, 2, 2],\n",
       " (0, 1, 2): [7, 7, 7, 6, 5, 5, 5, 4, 3, 3, 3, 2],\n",
       " (1, 0, 0): [13, 12, 12, 12, 11, 10, 10, 10, 9, 8, 8, 8],\n",
       " (1, 0, 1): [13, 13, 12, 12, 11, 11, 10, 10, 9, 9, 8, 8],\n",
       " (1, 0, 2): [13, 13, 13, 12, 11, 11, 11, 10, 9, 9, 9, 8],\n",
       " (1, 1, 0): [2, 3, 3, 3, 4, 5, 5, 5, 6, 7, 7, 7],\n",
       " (1, 1, 1): [2, 2, 3, 3, 4, 4, 5, 5, 6, 6, 7, 7],\n",
       " (1, 1, 2): [2, 2, 2, 3, 4, 4, 4, 5, 6, 6, 6, 7]}"
      ]
     },
     "execution_count": 4,
     "metadata": {},
     "output_type": "execute_result"
    }
   ],
   "source": [
    "#u, i, ts, label, idx, which represents source node index, target node index, time stamp, edge label and the edge index. \n",
    "\n",
    "complet = {key: [x + 2 for x in value] for key, value in label_lookup.items()}\n",
    "complete = {key: [1, *value] for key, value in complet.items()}\n",
    "#start from 1 (new state)\n",
    "source_node_dic = {key: value[:-1] for key, value in complete.items()}\n",
    "target_node_dic = {key: value[1:] for key, value in complete.items()}\n",
    "target_node_dic"
   ]
  },
  {
   "cell_type": "code",
   "execution_count": 5,
   "metadata": {},
   "outputs": [
    {
     "data": {
      "text/plain": [
       "{(0, 0, 0): [1, 8, 9, 9, 9, 10, 11, 11, 11, 12, 13, 13],\n",
       " (0, 0, 1): [1, 8, 8, 9, 9, 10, 10, 11, 11, 12, 12, 13],\n",
       " (0, 0, 2): [1, 8, 8, 8, 9, 10, 10, 10, 11, 12, 12, 12],\n",
       " (0, 1, 0): [1, 7, 6, 6, 6, 5, 4, 4, 4, 3, 2, 2],\n",
       " (0, 1, 1): [1, 7, 7, 6, 6, 5, 5, 4, 4, 3, 3, 2],\n",
       " (0, 1, 2): [1, 7, 7, 7, 6, 5, 5, 5, 4, 3, 3, 3],\n",
       " (1, 0, 0): [1, 13, 12, 12, 12, 11, 10, 10, 10, 9, 8, 8],\n",
       " (1, 0, 1): [1, 13, 13, 12, 12, 11, 11, 10, 10, 9, 9, 8],\n",
       " (1, 0, 2): [1, 13, 13, 13, 12, 11, 11, 11, 10, 9, 9, 9],\n",
       " (1, 1, 0): [1, 2, 3, 3, 3, 4, 5, 5, 5, 6, 7, 7],\n",
       " (1, 1, 1): [1, 2, 2, 3, 3, 4, 4, 5, 5, 6, 6, 7],\n",
       " (1, 1, 2): [1, 2, 2, 2, 3, 4, 4, 4, 5, 6, 6, 6]}"
      ]
     },
     "execution_count": 5,
     "metadata": {},
     "output_type": "execute_result"
    }
   ],
   "source": [
    "source_node_dic"
   ]
  },
  {
   "cell_type": "code",
   "execution_count": 6,
   "metadata": {},
   "outputs": [],
   "source": [
    "import time\n",
    "from datetime import datetime , timedelta\n",
    "import numpy as np\n",
    "def generate_timestamps(num_timestamps):\n",
    "    # Get the current timestamp\n",
    "    now = datetime.now()\n",
    "    timestamps = [(now + timedelta(milliseconds=250 * i)).timestamp() for i in range(num_timestamps)]\n",
    "    return np.array(timestamps)\n",
    "\n",
    "# Generate and save timestamps\n",
    "timestamps = generate_timestamps(108 * 12 *250 )\n",
    "np.save('timestamps.npy', timestamps)\n",
    "\n",
    "# Load timestamps when needed\n",
    "ts = np.load('timestamps.npy')\n"
   ]
  },
  {
   "cell_type": "code",
   "execution_count": 8,
   "metadata": {},
   "outputs": [],
   "source": [
    "sampled_ts = ts[::250]"
   ]
  },
  {
   "cell_type": "code",
   "execution_count": 9,
   "metadata": {},
   "outputs": [
    {
     "data": {
      "text/plain": [
       "1296"
      ]
     },
     "execution_count": 9,
     "metadata": {},
     "output_type": "execute_result"
    }
   ],
   "source": [
    "len(sampled_ts)"
   ]
  },
  {
   "cell_type": "code",
   "execution_count": 10,
   "metadata": {},
   "outputs": [
    {
     "data": {
      "text/plain": [
       "array([1.69440971e+09, 1.69440977e+09, 1.69440984e+09, ...,\n",
       "       1.69449052e+09, 1.69449059e+09, 1.69449065e+09])"
      ]
     },
     "execution_count": 10,
     "metadata": {},
     "output_type": "execute_result"
    }
   ],
   "source": [
    "sampled_ts\n"
   ]
  },
  {
   "cell_type": "code",
   "execution_count": 27,
   "metadata": {},
   "outputs": [],
   "source": [
    "import pandas as pd\n",
    "import numpy as np\n",
    "\n",
    "timestamps = sampled_ts\n",
    "# Create DataFrame\n",
    "df = pd.DataFrame({\n",
    "    'u': [np.nan] * len(timestamps),\n",
    "    'i': [np.nan] * len(timestamps),\n",
    "    'ts': timestamps,\n",
    "    'label': [np.nan] * len(timestamps),\n",
    "    'idx': [np.nan] * len(timestamps),\n",
    "})\n",
    "\n",
    "# Save DataFrame to csv\n",
    "df.to_csv('ml_hands.csv', index=False)"
   ]
  },
  {
   "cell_type": "code",
   "execution_count": 14,
   "metadata": {},
   "outputs": [
    {
     "data": {
      "text/plain": [
       "{(0, 0, 0): [1, 8, 9, 9, 9, 10, 11, 11, 11, 12, 13, 13],\n",
       " (0, 0, 1): [1, 8, 8, 9, 9, 10, 10, 11, 11, 12, 12, 13],\n",
       " (0, 0, 2): [1, 8, 8, 8, 9, 10, 10, 10, 11, 12, 12, 12],\n",
       " (0, 1, 0): [1, 7, 6, 6, 6, 5, 4, 4, 4, 3, 2, 2],\n",
       " (0, 1, 1): [1, 7, 7, 6, 6, 5, 5, 4, 4, 3, 3, 2],\n",
       " (0, 1, 2): [1, 7, 7, 7, 6, 5, 5, 5, 4, 3, 3, 3],\n",
       " (1, 0, 0): [1, 13, 12, 12, 12, 11, 10, 10, 10, 9, 8, 8],\n",
       " (1, 0, 1): [1, 13, 13, 12, 12, 11, 11, 10, 10, 9, 9, 8],\n",
       " (1, 0, 2): [1, 13, 13, 13, 12, 11, 11, 11, 10, 9, 9, 9],\n",
       " (1, 1, 0): [1, 2, 3, 3, 3, 4, 5, 5, 5, 6, 7, 7],\n",
       " (1, 1, 1): [1, 2, 2, 3, 3, 4, 4, 5, 5, 6, 6, 7],\n",
       " (1, 1, 2): [1, 2, 2, 2, 3, 4, 4, 4, 5, 6, 6, 6]}"
      ]
     },
     "execution_count": 14,
     "metadata": {},
     "output_type": "execute_result"
    }
   ],
   "source": [
    "source_node_dic"
   ]
  },
  {
   "cell_type": "code",
   "execution_count": 15,
   "metadata": {},
   "outputs": [],
   "source": [
    "import sys\n",
    "sys.path.append('/Users/qianxigong/Downloads/introspection/models')"
   ]
  },
  {
   "cell_type": "code",
   "execution_count": 16,
   "metadata": {},
   "outputs": [
    {
     "name": "stderr",
     "output_type": "stream",
     "text": [
      "/Users/qianxigong/miniforge3/lib/python3.9/site-packages/torchvision/io/image.py:13: UserWarning: Failed to load image Python extension: dlopen(/Users/qianxigong/miniforge3/lib/python3.9/site-packages/torchvision/image.so, 0x0006): Symbol not found: __ZN2at4_ops19empty_memory_format4callEN3c108ArrayRefINS2_6SymIntEEENS2_8optionalINS2_10ScalarTypeEEENS6_INS2_6LayoutEEENS6_INS2_6DeviceEEENS6_IbEENS6_INS2_12MemoryFormatEEE\n",
      "  Referenced from: <7968D834-00B6-3BC5-91B8-63E6BB9C4E4E> /Users/qianxigong/miniforge3/lib/python3.9/site-packages/torchvision/image.so\n",
      "  Expected in:     <F008E7E7-AB21-3358-8168-A868137DB04F> /Users/qianxigong/miniforge3/lib/python3.9/site-packages/torch/lib/libtorch_cpu.dylib\n",
      "  warn(f\"Failed to load image Python extension: {e}\")\n"
     ]
    },
    {
     "name": "stdout",
     "output_type": "stream",
     "text": [
      "righttomid\n",
      "lefttomid\n",
      "midtoleft\n",
      "midtoright\n",
      "righttomid\n",
      "lefttomid\n",
      "midtoleft\n",
      "midtoright\n",
      "righttomid\n",
      "lefttomid\n",
      "midtoleft\n",
      "midtoright\n"
     ]
    }
   ],
   "source": [
    "\n",
    "from torch.utils.data import DataLoader, TensorDataset\n",
    "from trainingg import get_train_data_dic\n",
    "from sklearn.model_selection import train_test_split\n",
    "\n",
    "batch_size=1\n",
    "midstartlst=['righttomid',\"lefttomid\"]\n",
    "midendlst=['midtoleft',\"midtoright\"]\n",
    "directions=[midstartlst,midendlst]\n",
    "\n",
    "rightlst=['righttomid','midtoright']\n",
    "leftlst=['midtoleft', 'lefttomid']\n",
    "positions=[rightlst, leftlst]\n",
    "\n",
    "speeds=[\"fast\", \"even\", \"slow\"]\n",
    "#load one X and 3Y\n",
    "X_list=[]\n",
    "Y1=[]\n",
    "Y2=[]\n",
    "Y3=[]\n",
    "for speed in speeds:\n",
    "    label3=speeds.index(speed) #[\"fast\", \"even\", \"slow\"]\n",
    "    for groups in directions: #[midstartlst,midendlst]\n",
    "        label1=directions.index(groups) #two direction\n",
    "        for single in groups:\n",
    "            if single in rightlst:\n",
    "                label2= 0\n",
    "            elif single in leftlst:\n",
    "                label2= 1\n",
    "            dic= get_train_data_dic([single], speed)\n",
    "            X_list.append(dic[single]) # 9,8 1500 #12,9,8,1500\n",
    "            Y1+=[label1]*len(dic[single])\n",
    "            Y2+=[label2]*len(dic[single])\n",
    "            Y3+=[label3]*len(dic[single])\n",
    "# print(len(X_list), len(X_list[0]))\n",
    "X = np.vstack(X_list)\n",
    "X = np.squeeze(X, axis=1)\n",
    "Y1, Y2, Y3= np.array(Y1),np.array(Y2),np.array(Y3)\n",
    "Y_combined = np.vstack((Y1, Y2, Y3)).T\n",
    "X_train, X_test, Y_train, Y_test = train_test_split(X, Y_combined, test_size=0.2)\n",
    "\n",
    "# # Create TensorDatasets for the training and validation sets\n",
    "# train_dataset = TensorDataset(torch.tensor(X_train, dtype=torch.float32), torch.tensor(Y_train,dtype=torch.long))\n",
    "# val_dataset = TensorDataset(torch.tensor(X_test, dtype=torch.float32), torch.tensor(Y_test,dtype=torch.long))\n",
    "\n",
    "# # Create DataLoaders for the training and validation sets\n",
    "# train_loader = DataLoader(train_dataset, batch_size=batch_size, shuffle=True,drop_last=True)\n",
    "\n",
    "# val_loader = DataLoader(val_dataset, batch_size=batch_size, shuffle=False,drop_last=True)\n"
   ]
  },
  {
   "cell_type": "code",
   "execution_count": 17,
   "metadata": {},
   "outputs": [
    {
     "data": {
      "text/plain": [
       "(108, 8, 1500)"
      ]
     },
     "execution_count": 17,
     "metadata": {},
     "output_type": "execute_result"
    }
   ],
   "source": [
    "X.shape"
   ]
  },
  {
   "cell_type": "code",
   "execution_count": 18,
   "metadata": {},
   "outputs": [
    {
     "data": {
      "text/plain": [
       "(108, 3)"
      ]
     },
     "execution_count": 18,
     "metadata": {},
     "output_type": "execute_result"
    }
   ],
   "source": [
    "Y_combined.shape"
   ]
  },
  {
   "cell_type": "code",
   "execution_count": 19,
   "metadata": {},
   "outputs": [
    {
     "data": {
      "text/plain": [
       "{(0, 0, 0): [8, 9, 9, 9, 10, 11, 11, 11, 12, 13, 13, 13],\n",
       " (0, 0, 1): [8, 8, 9, 9, 10, 10, 11, 11, 12, 12, 13, 13],\n",
       " (0, 0, 2): [8, 8, 8, 9, 10, 10, 10, 11, 12, 12, 12, 13],\n",
       " (0, 1, 0): [7, 6, 6, 6, 5, 4, 4, 4, 3, 2, 2, 2],\n",
       " (0, 1, 1): [7, 7, 6, 6, 5, 5, 4, 4, 3, 3, 2, 2],\n",
       " (0, 1, 2): [7, 7, 7, 6, 5, 5, 5, 4, 3, 3, 3, 2],\n",
       " (1, 0, 0): [13, 12, 12, 12, 11, 10, 10, 10, 9, 8, 8, 8],\n",
       " (1, 0, 1): [13, 13, 12, 12, 11, 11, 10, 10, 9, 9, 8, 8],\n",
       " (1, 0, 2): [13, 13, 13, 12, 11, 11, 11, 10, 9, 9, 9, 8],\n",
       " (1, 1, 0): [2, 3, 3, 3, 4, 5, 5, 5, 6, 7, 7, 7],\n",
       " (1, 1, 1): [2, 2, 3, 3, 4, 4, 5, 5, 6, 6, 7, 7],\n",
       " (1, 1, 2): [2, 2, 2, 3, 4, 4, 4, 5, 6, 6, 6, 7]}"
      ]
     },
     "execution_count": 19,
     "metadata": {},
     "output_type": "execute_result"
    }
   ],
   "source": [
    "target_node_dic"
   ]
  },
  {
   "cell_type": "code",
   "execution_count": 20,
   "metadata": {},
   "outputs": [],
   "source": [
    "\n",
    "\n",
    "# righttomid\n",
    "# lefttomid\n",
    "# midtoleft\n",
    "# midtoright"
   ]
  },
  {
   "cell_type": "code",
   "execution_count": 22,
   "metadata": {},
   "outputs": [
    {
     "data": {
      "text/plain": [
       "{(0, 0, 0): [1, 8, 9, 9, 9, 10, 11, 11, 11, 12, 13, 13],\n",
       " (0, 0, 1): [1, 8, 8, 9, 9, 10, 10, 11, 11, 12, 12, 13],\n",
       " (0, 0, 2): [1, 8, 8, 8, 9, 10, 10, 10, 11, 12, 12, 12],\n",
       " (0, 1, 0): [1, 7, 6, 6, 6, 5, 4, 4, 4, 3, 2, 2],\n",
       " (0, 1, 1): [1, 7, 7, 6, 6, 5, 5, 4, 4, 3, 3, 2],\n",
       " (0, 1, 2): [1, 7, 7, 7, 6, 5, 5, 5, 4, 3, 3, 3],\n",
       " (1, 0, 0): [1, 13, 12, 12, 12, 11, 10, 10, 10, 9, 8, 8],\n",
       " (1, 0, 1): [1, 13, 13, 12, 12, 11, 11, 10, 10, 9, 9, 8],\n",
       " (1, 0, 2): [1, 13, 13, 13, 12, 11, 11, 11, 10, 9, 9, 9],\n",
       " (1, 1, 0): [1, 2, 3, 3, 3, 4, 5, 5, 5, 6, 7, 7],\n",
       " (1, 1, 1): [1, 2, 2, 3, 3, 4, 4, 5, 5, 6, 6, 7],\n",
       " (1, 1, 2): [1, 2, 2, 2, 3, 4, 4, 4, 5, 6, 6, 6]}"
      ]
     },
     "execution_count": 22,
     "metadata": {},
     "output_type": "execute_result"
    }
   ],
   "source": [
    "source_node_dic"
   ]
  },
  {
   "cell_type": "code",
   "execution_count": null,
   "metadata": {},
   "outputs": [],
   "source": [
    "#(108, 8, 1500), (108, 3)\n",
    "\n",
    "seqlength = 12\n",
    "\n",
    "for seq, nottup in zip(X,Y_combined):\n",
    "    tup = tuple(nottup)\n",
    "    nan_indices = df[df['u'].isna()].index.tolist()\n",
    "    indices_to_update = nan_indices[:seqlength] \n",
    "    df.loc[indices_to_update, 'u'] = [int(itm) for itm in source_node_dic[tup]]\n",
    "    df.loc[indices_to_update, 'i'] = [int(itm) for itm in target_node_dic[tup]]\n",
    "    df.loc[indices_to_update, 'label'] =  [str(tup) for _ in range(len(indices_to_update))]   \n",
    "    print(seq.shape)\n",
    "df.to_csv('ml_hands.csv', index=False)\n"
   ]
  },
  {
   "cell_type": "code",
   "execution_count": 31,
   "metadata": {},
   "outputs": [],
   "source": [
    "df[\"idx\"] = df.index.tolist()"
   ]
  },
  {
   "cell_type": "code",
   "execution_count": 32,
   "metadata": {},
   "outputs": [
    {
     "data": {
      "text/html": [
       "<div>\n",
       "<style scoped>\n",
       "    .dataframe tbody tr th:only-of-type {\n",
       "        vertical-align: middle;\n",
       "    }\n",
       "\n",
       "    .dataframe tbody tr th {\n",
       "        vertical-align: top;\n",
       "    }\n",
       "\n",
       "    .dataframe thead th {\n",
       "        text-align: right;\n",
       "    }\n",
       "</style>\n",
       "<table border=\"1\" class=\"dataframe\">\n",
       "  <thead>\n",
       "    <tr style=\"text-align: right;\">\n",
       "      <th></th>\n",
       "      <th>u</th>\n",
       "      <th>i</th>\n",
       "      <th>ts</th>\n",
       "      <th>label</th>\n",
       "      <th>idx</th>\n",
       "    </tr>\n",
       "  </thead>\n",
       "  <tbody>\n",
       "    <tr>\n",
       "      <th>0</th>\n",
       "      <td>1.0</td>\n",
       "      <td>8.0</td>\n",
       "      <td>1.692341e+09</td>\n",
       "      <td>(0, 0, 0)</td>\n",
       "      <td>0</td>\n",
       "    </tr>\n",
       "    <tr>\n",
       "      <th>1</th>\n",
       "      <td>8.0</td>\n",
       "      <td>9.0</td>\n",
       "      <td>1.692341e+09</td>\n",
       "      <td>(0, 0, 0)</td>\n",
       "      <td>1</td>\n",
       "    </tr>\n",
       "    <tr>\n",
       "      <th>2</th>\n",
       "      <td>9.0</td>\n",
       "      <td>9.0</td>\n",
       "      <td>1.692341e+09</td>\n",
       "      <td>(0, 0, 0)</td>\n",
       "      <td>2</td>\n",
       "    </tr>\n",
       "    <tr>\n",
       "      <th>3</th>\n",
       "      <td>9.0</td>\n",
       "      <td>9.0</td>\n",
       "      <td>1.692341e+09</td>\n",
       "      <td>(0, 0, 0)</td>\n",
       "      <td>3</td>\n",
       "    </tr>\n",
       "    <tr>\n",
       "      <th>4</th>\n",
       "      <td>9.0</td>\n",
       "      <td>10.0</td>\n",
       "      <td>1.692341e+09</td>\n",
       "      <td>(0, 0, 0)</td>\n",
       "      <td>4</td>\n",
       "    </tr>\n",
       "    <tr>\n",
       "      <th>...</th>\n",
       "      <td>...</td>\n",
       "      <td>...</td>\n",
       "      <td>...</td>\n",
       "      <td>...</td>\n",
       "      <td>...</td>\n",
       "    </tr>\n",
       "    <tr>\n",
       "      <th>1291</th>\n",
       "      <td>11.0</td>\n",
       "      <td>10.0</td>\n",
       "      <td>1.692421e+09</td>\n",
       "      <td>(1, 0, 2)</td>\n",
       "      <td>1291</td>\n",
       "    </tr>\n",
       "    <tr>\n",
       "      <th>1292</th>\n",
       "      <td>10.0</td>\n",
       "      <td>9.0</td>\n",
       "      <td>1.692421e+09</td>\n",
       "      <td>(1, 0, 2)</td>\n",
       "      <td>1292</td>\n",
       "    </tr>\n",
       "    <tr>\n",
       "      <th>1293</th>\n",
       "      <td>9.0</td>\n",
       "      <td>9.0</td>\n",
       "      <td>1.692421e+09</td>\n",
       "      <td>(1, 0, 2)</td>\n",
       "      <td>1293</td>\n",
       "    </tr>\n",
       "    <tr>\n",
       "      <th>1294</th>\n",
       "      <td>9.0</td>\n",
       "      <td>9.0</td>\n",
       "      <td>1.692421e+09</td>\n",
       "      <td>(1, 0, 2)</td>\n",
       "      <td>1294</td>\n",
       "    </tr>\n",
       "    <tr>\n",
       "      <th>1295</th>\n",
       "      <td>9.0</td>\n",
       "      <td>8.0</td>\n",
       "      <td>1.692421e+09</td>\n",
       "      <td>(1, 0, 2)</td>\n",
       "      <td>1295</td>\n",
       "    </tr>\n",
       "  </tbody>\n",
       "</table>\n",
       "<p>1296 rows × 5 columns</p>\n",
       "</div>"
      ],
      "text/plain": [
       "         u     i            ts      label   idx\n",
       "0      1.0   8.0  1.692341e+09  (0, 0, 0)     0\n",
       "1      8.0   9.0  1.692341e+09  (0, 0, 0)     1\n",
       "2      9.0   9.0  1.692341e+09  (0, 0, 0)     2\n",
       "3      9.0   9.0  1.692341e+09  (0, 0, 0)     3\n",
       "4      9.0  10.0  1.692341e+09  (0, 0, 0)     4\n",
       "...    ...   ...           ...        ...   ...\n",
       "1291  11.0  10.0  1.692421e+09  (1, 0, 2)  1291\n",
       "1292  10.0   9.0  1.692421e+09  (1, 0, 2)  1292\n",
       "1293   9.0   9.0  1.692421e+09  (1, 0, 2)  1293\n",
       "1294   9.0   9.0  1.692421e+09  (1, 0, 2)  1294\n",
       "1295   9.0   8.0  1.692421e+09  (1, 0, 2)  1295\n",
       "\n",
       "[1296 rows x 5 columns]"
      ]
     },
     "execution_count": 32,
     "metadata": {},
     "output_type": "execute_result"
    }
   ],
   "source": [
    "df"
   ]
  },
  {
   "cell_type": "code",
   "execution_count": 57,
   "metadata": {},
   "outputs": [],
   "source": [
    "edge_features = np.concatenate([x.reshape(12,-1) for x in X], axis=0)\n",
    "\n",
    "node_features =  np.repeat(Y_combined, 12, axis=0)"
   ]
  },
  {
   "cell_type": "code",
   "execution_count": 58,
   "metadata": {},
   "outputs": [
    {
     "data": {
      "text/plain": [
       "(1296, 3)"
      ]
     },
     "execution_count": 58,
     "metadata": {},
     "output_type": "execute_result"
    }
   ],
   "source": [
    "node_features.shape"
   ]
  },
  {
   "cell_type": "code",
   "execution_count": 53,
   "metadata": {},
   "outputs": [
    {
     "data": {
      "text/plain": [
       "(1296, 1000)"
      ]
     },
     "execution_count": 53,
     "metadata": {},
     "output_type": "execute_result"
    }
   ],
   "source": [
    "edge_features.shape"
   ]
  },
  {
   "cell_type": "code",
   "execution_count": 33,
   "metadata": {},
   "outputs": [],
   "source": [
    "df.to_csv('ml_hands.csv', index=False)"
   ]
  },
  {
   "cell_type": "code",
   "execution_count": 61,
   "metadata": {},
   "outputs": [],
   "source": [
    "#ml_${DATA_NAME}.npy` has shape of [#temporal edges + 1, edge features dimention]. Similarly, `ml_${DATA_NAME}_node.npy` has shape of [#nodes + 1, node features dimension].\n",
    "#1296 8*250\n",
    "\n",
    "DATA_NAME = \"hands\"\n",
    "temporal_edges = df[\"idx\"].iloc[-1]\n",
    "edge_features_dim = 8*250\n",
    "edge_features_array = np.zeros((temporal_edges + 1, edge_features_dim))\n",
    "edge_features_array.shape\n",
    "np.save(f\"ml_{DATA_NAME}.npy\", edge_features_array)\n",
    "np.save(f\"ml_{DATA_NAME}_node.npy\", edge_features_array)"
   ]
  },
  {
   "cell_type": "code",
   "execution_count": 60,
   "metadata": {},
   "outputs": [],
   "source": [
    "os.chdir('/Users/qianxigong/Downloads/drive-download-20230814T091829Z-001/processed')\n"
   ]
  },
  {
   "cell_type": "code",
   "execution_count": null,
   "metadata": {},
   "outputs": [],
   "source": [
    "import torch\n",
    "import torch.nn as nn\n",
    "import numpy as np\n",
    "\n",
    "class ChannelEmbedding(nn.Module):\n",
    "    def __init__(self, d_model, ch_names):\n",
    "        super(ChannelEmbedding, self).__init__()\n",
    "        self.d_model = d_model\n",
    "        self.ch_names = ch_names\n",
    "        self.embedding = torch.zeros(len(ch_names), d_model)\n",
    "        self.create_embedding()\n",
    "        \n",
    "    def create_embedding(self):\n",
    "        # Assign relative positions based on your description\n",
    "        # Closer to the center means a smaller number\n",
    "        ch_position = {\n",
    "            \"Cz\": 0,\n",
    "            \"CPz\": 1,\n",
    "            \"CP3\": 2, \"CP4\": 2,\n",
    "            \"CP5\": 3, \"CP6\": 3,\n",
    "            \"P7\": 4, \"P8\": 4\n",
    "        }\n",
    "        \n",
    "        for pos, ch_name in enumerate(self.ch_names):\n",
    "            position = ch_position[ch_name]\n",
    "            div_term = torch.exp(torch.arange(0, self.d_model, 2).float() * -(np.log(10000.0) / self.d_model))\n",
    "            self.embedding[pos, 0::2] = torch.sin(position * div_term)\n",
    "            self.embedding[pos, 1::2] = torch.cos(position * div_term)\n",
    "            \n",
    "        self.embedding = nn.Parameter(self.embedding, requires_grad=False)\n",
    "            \n",
    "    def forward(self, x):\n",
    "        # Assuming x is of shape [N, L, d_model] where L is the number of channels and matches len(ch_names)\n",
    "        return x + self.embedding\n"
   ]
  },
  {
   "cell_type": "code",
   "execution_count": null,
   "metadata": {},
   "outputs": [
    {
     "name": "stdout",
     "output_type": "stream",
     "text": [
      "Parameter containing:\n",
      "tensor([[-7.5680e-01, -6.5364e-01,  3.8942e-01,  9.2106e-01,  3.9989e-02,\n",
      "          9.9920e-01,  4.0000e-03,  9.9999e-01],\n",
      "        [ 1.4112e-01, -9.8999e-01,  2.9552e-01,  9.5534e-01,  2.9995e-02,\n",
      "          9.9955e-01,  3.0000e-03,  1.0000e+00],\n",
      "        [ 9.0930e-01, -4.1615e-01,  1.9867e-01,  9.8007e-01,  1.9999e-02,\n",
      "          9.9980e-01,  2.0000e-03,  1.0000e+00],\n",
      "        [ 8.4147e-01,  5.4030e-01,  9.9833e-02,  9.9500e-01,  9.9998e-03,\n",
      "          9.9995e-01,  1.0000e-03,  1.0000e+00],\n",
      "        [ 0.0000e+00,  1.0000e+00,  0.0000e+00,  1.0000e+00,  0.0000e+00,\n",
      "          1.0000e+00,  0.0000e+00,  1.0000e+00],\n",
      "        [ 9.0930e-01, -4.1615e-01,  1.9867e-01,  9.8007e-01,  1.9999e-02,\n",
      "          9.9980e-01,  2.0000e-03,  1.0000e+00],\n",
      "        [ 1.4112e-01, -9.8999e-01,  2.9552e-01,  9.5534e-01,  2.9995e-02,\n",
      "          9.9955e-01,  3.0000e-03,  1.0000e+00],\n",
      "        [-7.5680e-01, -6.5364e-01,  3.8942e-01,  9.2106e-01,  3.9989e-02,\n",
      "          9.9920e-01,  4.0000e-03,  9.9999e-01]])\n"
     ]
    }
   ],
   "source": [
    "ch_names = [\"P7\", \"CP5\", \"CP3\", \"CPz\", \"Cz\", \"CP4\", \"CP6\", \"P8\"]\n",
    "d_model = 8  # smaller for easy visualization\n",
    "channel_emb = ChannelEmbedding(d_model, ch_names)\n",
    "print(channel_emb.embedding)\n"
   ]
  },
  {
   "cell_type": "code",
   "execution_count": null,
   "metadata": {},
   "outputs": [
    {
     "name": "stdout",
     "output_type": "stream",
     "text": [
      "tensor([[[ 2.3780e-01, -1.6251e+00, -1.3106e-01, -4.2696e-01,  1.0959e+00,\n",
      "           1.2949e+00,  3.5198e-01,  7.3994e-01],\n",
      "         [-1.2343e+00, -7.2173e-01,  6.1617e-01,  5.3011e-01, -1.2291e-01,\n",
      "           2.1230e-01, -4.6051e-01,  6.8829e-01],\n",
      "         [ 1.6378e-02, -1.1625e+00, -6.0013e-01,  1.7253e+00, -1.3905e+00,\n",
      "          -4.9244e-01, -4.6237e-01, -7.8519e-01],\n",
      "         [ 5.4876e-01, -8.9679e-01,  1.4695e+00,  1.0858e-01, -1.6832e-02,\n",
      "           6.4576e-01,  2.3079e+00,  1.3980e-01],\n",
      "         [-9.7770e-01,  1.0224e+00,  3.5229e+00,  8.2300e-01, -1.0249e+00,\n",
      "           4.8633e-01, -8.7128e-01,  1.0057e+00],\n",
      "         [ 9.3842e-02, -1.0597e+00,  1.5036e-01,  1.0180e+00,  9.0615e-01,\n",
      "           1.0801e+00, -2.0035e-01,  7.0203e-01],\n",
      "         [ 8.3548e-01, -6.2218e-02, -1.1012e+00,  2.6887e+00,  8.9019e-01,\n",
      "           2.1025e-01, -1.0468e+00, -7.9463e-02],\n",
      "         [-1.5491e+00, -2.1211e+00,  4.8830e-01,  1.1173e+00, -9.0025e-01,\n",
      "          -3.8913e-01,  1.3927e+00,  6.1311e-01]],\n",
      "\n",
      "        [[ 1.9144e-02, -1.1551e-01, -9.4143e-01, -2.2641e-01, -5.6519e-01,\n",
      "           1.0730e+00, -2.8271e-01,  9.4794e-01],\n",
      "         [-2.6744e-01, -1.7853e+00,  7.8767e-01,  1.3042e+00, -9.1762e-01,\n",
      "           4.7315e-02,  8.0224e-01,  1.8945e+00],\n",
      "         [ 1.7729e+00,  3.1609e-01,  1.8059e+00,  1.5254e-01,  7.9397e-01,\n",
      "           8.0420e-01, -6.3834e-01,  1.1021e+00],\n",
      "         [ 1.6960e-01,  4.7788e-01, -1.1373e+00,  1.0949e+00, -7.4190e-01,\n",
      "           1.2680e+00, -5.4679e-01,  3.4962e+00],\n",
      "         [ 7.6331e-02,  5.9991e-01, -2.0536e+00,  2.0359e+00, -2.1614e+00,\n",
      "           1.3378e+00,  1.5208e+00,  1.3781e+00],\n",
      "         [ 2.0993e+00, -6.4240e-01, -1.2170e+00,  4.6986e-01, -1.1000e+00,\n",
      "           9.1986e-01,  2.2373e+00,  1.2957e+00],\n",
      "         [-1.7261e+00,  4.6401e-01,  2.9870e+00,  2.9096e+00,  7.5484e-01,\n",
      "           8.1028e-01,  3.6591e-01,  1.3031e+00],\n",
      "         [-8.6675e-01,  6.6724e-02,  2.2472e+00,  1.9671e+00,  2.8724e-01,\n",
      "           2.2654e-01, -4.3962e-01,  1.6569e+00]],\n",
      "\n",
      "        [[-1.5739e-02,  3.9535e-01,  1.3767e+00,  1.2062e+00,  4.7070e-02,\n",
      "           3.4339e+00, -1.3819e+00,  1.2957e+00],\n",
      "         [-1.4811e+00, -6.4824e-01,  9.4341e-01,  3.3522e-01,  2.2981e+00,\n",
      "           5.8419e-01, -1.2933e+00,  8.6535e-01],\n",
      "         [ 3.2587e+00,  3.1300e-01, -3.2566e-01,  2.9591e-01, -2.8369e-01,\n",
      "          -1.0338e+00,  7.4901e-01,  5.5199e-01],\n",
      "         [ 7.8959e-01,  6.7465e-01,  2.4397e-01,  8.8953e-01,  1.6590e-01,\n",
      "           7.8020e-01, -4.5352e-01, -7.4479e-01],\n",
      "         [-1.3441e+00,  5.3998e-01, -2.3327e+00, -1.8632e-01,  3.0947e-01,\n",
      "           6.9374e-01, -5.7513e-01,  2.2351e+00],\n",
      "         [ 5.9965e-02, -9.2927e-01,  9.3892e-01,  1.8345e+00, -2.7635e-01,\n",
      "           1.4969e+00,  1.1406e+00,  1.1202e+00],\n",
      "         [-1.4690e+00, -1.6674e+00, -4.2596e-01, -1.4632e+00,  6.8132e-01,\n",
      "           5.5159e-01,  6.4639e-01,  3.1858e-01],\n",
      "         [ 2.8275e-01,  6.5638e-01,  8.7604e-03,  1.1702e+00,  1.5244e+00,\n",
      "          -7.7391e-01,  7.8077e-01,  1.9718e+00]],\n",
      "\n",
      "        [[-1.9782e-01, -1.0923e+00,  1.3589e+00, -5.8193e-01, -9.5113e-02,\n",
      "          -3.3582e-01, -1.2597e+00,  1.3159e+00],\n",
      "         [-1.9596e+00, -1.6686e+00, -6.5301e-01,  1.5822e+00,  2.1183e-01,\n",
      "           5.5480e-01,  1.2139e+00,  2.2838e+00],\n",
      "         [ 3.3106e+00,  5.7223e-01,  9.4755e-01,  1.9348e+00,  7.7144e-01,\n",
      "           2.0400e+00,  1.5194e+00,  5.2146e-01],\n",
      "         [-6.1521e-01, -3.1338e-01,  7.1911e-01,  4.8397e-01,  9.8585e-01,\n",
      "           1.5662e+00, -8.7219e-01,  2.7576e-01],\n",
      "         [ 7.1048e-01, -6.3856e-01,  4.0170e-01,  1.8874e+00,  2.2259e-01,\n",
      "           1.2232e+00,  5.4460e-02,  1.1845e+00],\n",
      "         [-2.4617e-04, -1.0088e+00, -4.2966e-02,  2.8885e+00, -9.9105e-01,\n",
      "          -3.5084e-01,  7.1847e-01,  3.2621e-01],\n",
      "         [-1.1150e+00,  3.0792e-01,  4.5784e-03,  9.3683e-01, -9.1891e-02,\n",
      "           2.4760e-01,  6.5026e-01,  7.8344e-01],\n",
      "         [-5.1756e-01, -4.7476e-01,  8.0533e-01,  6.9859e-01, -9.8399e-01,\n",
      "          -1.1358e+00,  1.9156e+00,  2.5368e+00]],\n",
      "\n",
      "        [[-1.7388e+00,  5.8051e-01,  1.5535e+00, -7.2416e-01, -1.2035e-01,\n",
      "           1.7299e-01,  1.5845e+00, -3.7170e-01],\n",
      "         [ 1.5980e-01, -1.7211e-01,  4.0282e-01,  2.6196e-02, -1.0527e-01,\n",
      "           2.1568e+00, -8.7036e-01,  6.9689e-01],\n",
      "         [-1.2355e-01, -6.3182e-03,  4.7655e-01,  8.4885e-01, -1.4124e+00,\n",
      "           6.0054e-01, -2.3566e+00,  2.4046e-01],\n",
      "         [ 1.0195e+00,  1.4733e+00,  7.1755e-01,  2.0773e-01,  1.5358e+00,\n",
      "           1.0679e+00,  1.7246e+00,  7.8301e-01],\n",
      "         [-7.6371e-01,  6.9716e-01,  2.2457e+00,  4.2148e-01,  1.3507e+00,\n",
      "           4.4494e-01,  1.9971e-01,  2.9220e+00],\n",
      "         [ 1.6424e+00, -1.2551e-01, -2.0809e-01,  1.7394e+00,  4.2252e-01,\n",
      "           1.1331e+00, -2.5774e+00,  3.6801e+00],\n",
      "         [-1.7149e+00,  4.4638e-02, -5.7646e-01,  1.1693e+00, -8.4814e-01,\n",
      "          -5.0106e-01,  4.7668e-01,  1.5611e+00],\n",
      "         [-5.5530e-01, -2.8772e+00, -1.3771e-01,  3.9846e-01, -1.3204e+00,\n",
      "           8.0008e-01, -3.5573e-01,  1.4183e+00]]])\n"
     ]
    }
   ],
   "source": [
    "x = torch.randn(5, len(ch_names), d_model)  # Example tensor for 5 samples\n",
    "embedded_x = channel_emb(x)\n",
    "print(embedded_x)\n"
   ]
  },
  {
   "cell_type": "code",
   "execution_count": null,
   "metadata": {},
   "outputs": [
    {
     "name": "stdout",
     "output_type": "stream",
     "text": [
      "tensor([[1.0000, 0.8838, 0.6409, 0.4912, 0.5667, 0.6409, 0.8838, 1.0000],\n",
      "        [0.8838, 1.0000, 0.8838, 0.6409, 0.4912, 0.8838, 1.0000, 0.8838],\n",
      "        [0.6409, 0.8838, 1.0000, 0.8838, 0.6409, 1.0000, 0.8838, 0.6409],\n",
      "        [0.4912, 0.6409, 0.8838, 1.0000, 0.8838, 0.8838, 0.6409, 0.4912],\n",
      "        [0.5667, 0.4912, 0.6409, 0.8838, 1.0000, 0.6409, 0.4912, 0.5667],\n",
      "        [0.6409, 0.8838, 1.0000, 0.8838, 0.6409, 1.0000, 0.8838, 0.6409],\n",
      "        [0.8838, 1.0000, 0.8838, 0.6409, 0.4912, 0.8838, 1.0000, 0.8838],\n",
      "        [1.0000, 0.8838, 0.6409, 0.4912, 0.5667, 0.6409, 0.8838, 1.0000]])\n"
     ]
    }
   ],
   "source": [
    "from torch.nn.functional import cosine_similarity\n",
    "\n",
    "# Pairwise cosine similarity\n",
    "similarity_matrix = torch.zeros(len(ch_names), len(ch_names))\n",
    "for i in range(len(ch_names)):\n",
    "    for j in range(len(ch_names)):\n",
    "        similarity_matrix[i, j] = cosine_similarity(channel_emb.embedding[i], channel_emb.embedding[j], dim=0)\n",
    "\n",
    "print(similarity_matrix)\n"
   ]
  }
 ],
 "metadata": {
  "kernelspec": {
   "display_name": "base",
   "language": "python",
   "name": "python3"
  },
  "language_info": {
   "codemirror_mode": {
    "name": "ipython",
    "version": 3
   },
   "file_extension": ".py",
   "mimetype": "text/x-python",
   "name": "python",
   "nbconvert_exporter": "python",
   "pygments_lexer": "ipython3",
   "version": "3.9.6"
  },
  "orig_nbformat": 4
 },
 "nbformat": 4,
 "nbformat_minor": 2
}
