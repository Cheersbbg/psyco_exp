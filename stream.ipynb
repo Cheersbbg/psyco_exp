{
 "cells": [
  {
   "cell_type": "code",
   "execution_count": 2,
   "metadata": {},
   "outputs": [
    {
     "name": "stdout",
     "output_type": "stream",
     "text": [
      "looking for an EEG stream...\n"
     ]
    },
    {
     "name": "stderr",
     "output_type": "stream",
     "text": [
      "2023-09-03 13:35:44.392 (   8.446s) [           C2C1B]      netinterfaces.cpp:91    INFO| netif 'lo0' (status: 1, multicast: 32768, broadcast: 0)\n",
      "2023-09-03 13:35:44.392 (   8.446s) [           C2C1B]      netinterfaces.cpp:91    INFO| netif 'lo0' (status: 1, multicast: 32768, broadcast: 0)\n",
      "2023-09-03 13:35:44.392 (   8.446s) [           C2C1B]      netinterfaces.cpp:102   INFO| \tIPv4 addr: 7f000001\n",
      "2023-09-03 13:35:44.392 (   8.446s) [           C2C1B]      netinterfaces.cpp:91    INFO| netif 'lo0' (status: 1, multicast: 32768, broadcast: 0)\n",
      "2023-09-03 13:35:44.392 (   8.446s) [           C2C1B]      netinterfaces.cpp:105   INFO| \tIPv6 addr: ::1\n",
      "2023-09-03 13:35:44.392 (   8.446s) [           C2C1B]      netinterfaces.cpp:91    INFO| netif 'lo0' (status: 1, multicast: 32768, broadcast: 0)\n",
      "2023-09-03 13:35:44.392 (   8.446s) [           C2C1B]      netinterfaces.cpp:105   INFO| \tIPv6 addr: fe80::1%lo0\n",
      "2023-09-03 13:35:44.392 (   8.446s) [           C2C1B]      netinterfaces.cpp:91    INFO| netif 'gif0' (status: 0, multicast: 32768, broadcast: 0)\n",
      "2023-09-03 13:35:44.392 (   8.446s) [           C2C1B]      netinterfaces.cpp:91    INFO| netif 'stf0' (status: 0, multicast: 0, broadcast: 0)\n",
      "2023-09-03 13:35:44.392 (   8.446s) [           C2C1B]      netinterfaces.cpp:91    INFO| netif 'anpi1' (status: 1, multicast: 32768, broadcast: 2)\n",
      "2023-09-03 13:35:44.392 (   8.446s) [           C2C1B]      netinterfaces.cpp:91    INFO| netif 'anpi1' (status: 1, multicast: 32768, broadcast: 2)\n",
      "2023-09-03 13:35:44.393 (   8.446s) [           C2C1B]      netinterfaces.cpp:105   INFO| \tIPv6 addr: fe80::e884:64ff:fe50:9038%anpi1\n",
      "2023-09-03 13:35:44.393 (   8.446s) [           C2C1B]      netinterfaces.cpp:91    INFO| netif 'anpi0' (status: 1, multicast: 32768, broadcast: 2)\n",
      "2023-09-03 13:35:44.393 (   8.446s) [           C2C1B]      netinterfaces.cpp:91    INFO| netif 'anpi0' (status: 1, multicast: 32768, broadcast: 2)\n",
      "2023-09-03 13:35:44.393 (   8.446s) [           C2C1B]      netinterfaces.cpp:105   INFO| \tIPv6 addr: fe80::e884:64ff:fe50:9037%anpi0\n",
      "2023-09-03 13:35:44.393 (   8.446s) [           C2C1B]      netinterfaces.cpp:91    INFO| netif 'en3' (status: 1, multicast: 32768, broadcast: 2)\n",
      "2023-09-03 13:35:44.393 (   8.446s) [           C2C1B]      netinterfaces.cpp:91    INFO| netif 'en4' (status: 1, multicast: 32768, broadcast: 2)\n",
      "2023-09-03 13:35:44.393 (   8.446s) [           C2C1B]      netinterfaces.cpp:91    INFO| netif 'en1' (status: 1, multicast: 32768, broadcast: 2)\n",
      "2023-09-03 13:35:44.393 (   8.446s) [           C2C1B]      netinterfaces.cpp:91    INFO| netif 'en2' (status: 1, multicast: 32768, broadcast: 2)\n",
      "2023-09-03 13:35:44.393 (   8.446s) [           C2C1B]      netinterfaces.cpp:91    INFO| netif 'ap1' (status: 0, multicast: 32768, broadcast: 2)\n",
      "2023-09-03 13:35:44.393 (   8.446s) [           C2C1B]      netinterfaces.cpp:91    INFO| netif 'en0' (status: 1, multicast: 32768, broadcast: 2)\n",
      "2023-09-03 13:35:44.393 (   8.446s) [           C2C1B]      netinterfaces.cpp:91    INFO| netif 'en0' (status: 1, multicast: 32768, broadcast: 2)\n",
      "2023-09-03 13:35:44.393 (   8.446s) [           C2C1B]      netinterfaces.cpp:105   INFO| \tIPv6 addr: fe80::cb66:404c:213f%en0\n",
      "2023-09-03 13:35:44.393 (   8.446s) [           C2C1B]      netinterfaces.cpp:91    INFO| netif 'en0' (status: 1, multicast: 32768, broadcast: 2)\n",
      "2023-09-03 13:35:44.393 (   8.446s) [           C2C1B]      netinterfaces.cpp:105   INFO| \tIPv6 addr: 2600:6c50:3f0:87d0:4d1:9ca5:874f:e0c0\n",
      "2023-09-03 13:35:44.393 (   8.446s) [           C2C1B]      netinterfaces.cpp:91    INFO| netif 'en0' (status: 1, multicast: 32768, broadcast: 2)\n",
      "2023-09-03 13:35:44.393 (   8.446s) [           C2C1B]      netinterfaces.cpp:105   INFO| \tIPv6 addr: 2600:6c50:3f0:87d0:29cf:b6d7:d48a:4410\n",
      "2023-09-03 13:35:44.393 (   8.446s) [           C2C1B]      netinterfaces.cpp:91    INFO| netif 'en0' (status: 1, multicast: 32768, broadcast: 2)\n",
      "2023-09-03 13:35:44.393 (   8.446s) [           C2C1B]      netinterfaces.cpp:102   INFO| \tIPv4 addr: c0a801c8\n",
      "2023-09-03 13:35:44.393 (   8.447s) [           C2C1B]      netinterfaces.cpp:91    INFO| netif 'en0' (status: 1, multicast: 32768, broadcast: 2)\n",
      "2023-09-03 13:35:44.393 (   8.447s) [           C2C1B]      netinterfaces.cpp:105   INFO| \tIPv6 addr: 2600:6c50:3f0:87d0::108a\n",
      "2023-09-03 13:35:44.393 (   8.447s) [           C2C1B]      netinterfaces.cpp:91    INFO| netif 'bridge0' (status: 1, multicast: 32768, broadcast: 2)\n",
      "2023-09-03 13:35:44.393 (   8.447s) [           C2C1B]      netinterfaces.cpp:91    INFO| netif 'awdl0' (status: 1, multicast: 32768, broadcast: 2)\n",
      "2023-09-03 13:35:44.393 (   8.447s) [           C2C1B]      netinterfaces.cpp:91    INFO| netif 'awdl0' (status: 1, multicast: 32768, broadcast: 2)\n",
      "2023-09-03 13:35:44.393 (   8.447s) [           C2C1B]      netinterfaces.cpp:105   INFO| \tIPv6 addr: fe80::860:57ff:fe03:ec6d%awdl0\n",
      "2023-09-03 13:35:44.393 (   8.447s) [           C2C1B]      netinterfaces.cpp:91    INFO| netif 'llw0' (status: 1, multicast: 32768, broadcast: 2)\n",
      "2023-09-03 13:35:44.393 (   8.447s) [           C2C1B]      netinterfaces.cpp:91    INFO| netif 'llw0' (status: 1, multicast: 32768, broadcast: 2)\n",
      "2023-09-03 13:35:44.393 (   8.447s) [           C2C1B]      netinterfaces.cpp:105   INFO| \tIPv6 addr: fe80::860:57ff:fe03:ec6d%llw0\n",
      "2023-09-03 13:35:44.393 (   8.447s) [           C2C1B]      netinterfaces.cpp:91    INFO| netif 'utun3' (status: 1, multicast: 32768, broadcast: 0)\n",
      "2023-09-03 13:35:44.393 (   8.447s) [           C2C1B]      netinterfaces.cpp:91    INFO| netif 'utun3' (status: 1, multicast: 32768, broadcast: 0)\n",
      "2023-09-03 13:35:44.393 (   8.447s) [           C2C1B]      netinterfaces.cpp:105   INFO| \tIPv6 addr: fe80::68e4:2159:a2dd:ec58%utun3\n",
      "2023-09-03 13:35:44.393 (   8.447s) [           C2C1B]      netinterfaces.cpp:91    INFO| netif 'utun4' (status: 1, multicast: 32768, broadcast: 0)\n",
      "2023-09-03 13:35:44.393 (   8.447s) [           C2C1B]      netinterfaces.cpp:91    INFO| netif 'utun4' (status: 1, multicast: 32768, broadcast: 0)\n",
      "2023-09-03 13:35:44.393 (   8.447s) [           C2C1B]      netinterfaces.cpp:105   INFO| \tIPv6 addr: fe80::6a1f:9bd5:2145:eff4%utun4\n",
      "2023-09-03 13:35:44.393 (   8.447s) [           C2C1B]      netinterfaces.cpp:91    INFO| netif 'utun5' (status: 1, multicast: 32768, broadcast: 0)\n",
      "2023-09-03 13:35:44.393 (   8.447s) [           C2C1B]      netinterfaces.cpp:91    INFO| netif 'utun5' (status: 1, multicast: 32768, broadcast: 0)\n",
      "2023-09-03 13:35:44.393 (   8.447s) [           C2C1B]      netinterfaces.cpp:105   INFO| \tIPv6 addr: fe80::ce81:b1c:bd2c:69e%utun5\n",
      "2023-09-03 13:35:44.393 (   8.447s) [           C2C1B]         api_config.cpp:270   INFO| Loaded default config\n",
      "2023-09-03 13:35:44.485 (   8.538s) [           C2C1B]             common.cpp:65    INFO| git:v1.16.2-5-g951a629d/branch:master/build:Release/compiler:AppleClang-14.0.3.14030022/link:SHARED\n",
      "2023-09-03 13:36:41.965 (  66.019s) [R_Crown-215     ]      data_receiver.cpp:344    ERR| Stream transmission broke off (Input stream error.); re-connecting...\n"
     ]
    }
   ],
   "source": [
    "\"\"\"Example program to show how to read a multi-channel time series from LSL.\"\"\"\n",
    "\n",
    "from pylsl import StreamInlet, resolve_stream\n",
    "\n",
    "try:\n",
    "    # first resolve an EEG stream on the lab network\n",
    "    print(\"looking for an EEG stream...\")\n",
    "    streams = resolve_stream(\"name\", \"Crown-215\")\n",
    "    # create a new inlet to read from the stream\n",
    "    inlet = StreamInlet(streams[0])\n",
    "    while True:\n",
    "        # get a new sample (you can also omit the timestamp part if you're not\n",
    "        # interested in it)\n",
    "        sample, timestamp = inlet.pull_sample()\n",
    "        print(timestamp, sample)\n",
    "except KeyboardInterrupt as e:\n",
    "    print(\"Ending program\")\n",
    "    raise e"
   ]
  },
  {
   "cell_type": "code",
   "execution_count": 1,
   "metadata": {},
   "outputs": [
    {
     "name": "stdout",
     "output_type": "stream",
     "text": [
      "looking for an EEG stream...\n"
     ]
    },
    {
     "name": "stderr",
     "output_type": "stream",
     "text": [
      "2023-09-03 13:38:00.246 (   0.001s) [           C2F78]      netinterfaces.cpp:91    INFO| netif 'lo0' (status: 1, multicast: 32768, broadcast: 0)\n",
      "2023-09-03 13:38:00.247 (   0.001s) [           C2F78]      netinterfaces.cpp:91    INFO| netif 'lo0' (status: 1, multicast: 32768, broadcast: 0)\n",
      "2023-09-03 13:38:00.247 (   0.001s) [           C2F78]      netinterfaces.cpp:102   INFO| \tIPv4 addr: 7f000001\n",
      "2023-09-03 13:38:00.247 (   0.001s) [           C2F78]      netinterfaces.cpp:91    INFO| netif 'lo0' (status: 1, multicast: 32768, broadcast: 0)\n",
      "2023-09-03 13:38:00.247 (   0.001s) [           C2F78]      netinterfaces.cpp:105   INFO| \tIPv6 addr: ::1\n",
      "2023-09-03 13:38:00.247 (   0.001s) [           C2F78]      netinterfaces.cpp:91    INFO| netif 'lo0' (status: 1, multicast: 32768, broadcast: 0)\n",
      "2023-09-03 13:38:00.247 (   0.001s) [           C2F78]      netinterfaces.cpp:105   INFO| \tIPv6 addr: fe80::1%lo0\n",
      "2023-09-03 13:38:00.247 (   0.001s) [           C2F78]      netinterfaces.cpp:91    INFO| netif 'gif0' (status: 0, multicast: 32768, broadcast: 0)\n",
      "2023-09-03 13:38:00.247 (   0.001s) [           C2F78]      netinterfaces.cpp:91    INFO| netif 'stf0' (status: 0, multicast: 0, broadcast: 0)\n",
      "2023-09-03 13:38:00.247 (   0.001s) [           C2F78]      netinterfaces.cpp:91    INFO| netif 'anpi1' (status: 1, multicast: 32768, broadcast: 2)\n",
      "2023-09-03 13:38:00.247 (   0.001s) [           C2F78]      netinterfaces.cpp:91    INFO| netif 'anpi1' (status: 1, multicast: 32768, broadcast: 2)\n",
      "2023-09-03 13:38:00.247 (   0.001s) [           C2F78]      netinterfaces.cpp:105   INFO| \tIPv6 addr: fe80::e884:64ff:fe50:9038%anpi1\n",
      "2023-09-03 13:38:00.247 (   0.001s) [           C2F78]      netinterfaces.cpp:91    INFO| netif 'anpi0' (status: 1, multicast: 32768, broadcast: 2)\n",
      "2023-09-03 13:38:00.247 (   0.001s) [           C2F78]      netinterfaces.cpp:91    INFO| netif 'anpi0' (status: 1, multicast: 32768, broadcast: 2)\n",
      "2023-09-03 13:38:00.247 (   0.001s) [           C2F78]      netinterfaces.cpp:105   INFO| \tIPv6 addr: fe80::e884:64ff:fe50:9037%anpi0\n",
      "2023-09-03 13:38:00.247 (   0.001s) [           C2F78]      netinterfaces.cpp:91    INFO| netif 'en3' (status: 1, multicast: 32768, broadcast: 2)\n",
      "2023-09-03 13:38:00.247 (   0.001s) [           C2F78]      netinterfaces.cpp:91    INFO| netif 'en4' (status: 1, multicast: 32768, broadcast: 2)\n",
      "2023-09-03 13:38:00.247 (   0.001s) [           C2F78]      netinterfaces.cpp:91    INFO| netif 'en1' (status: 1, multicast: 32768, broadcast: 2)\n",
      "2023-09-03 13:38:00.247 (   0.001s) [           C2F78]      netinterfaces.cpp:91    INFO| netif 'en2' (status: 1, multicast: 32768, broadcast: 2)\n",
      "2023-09-03 13:38:00.247 (   0.001s) [           C2F78]      netinterfaces.cpp:91    INFO| netif 'ap1' (status: 0, multicast: 32768, broadcast: 2)\n",
      "2023-09-03 13:38:00.247 (   0.001s) [           C2F78]      netinterfaces.cpp:91    INFO| netif 'en0' (status: 1, multicast: 32768, broadcast: 2)\n",
      "2023-09-03 13:38:00.247 (   0.001s) [           C2F78]      netinterfaces.cpp:91    INFO| netif 'en0' (status: 1, multicast: 32768, broadcast: 2)\n",
      "2023-09-03 13:38:00.247 (   0.001s) [           C2F78]      netinterfaces.cpp:105   INFO| \tIPv6 addr: fe80::cb66:404c:213f%en0\n",
      "2023-09-03 13:38:00.247 (   0.001s) [           C2F78]      netinterfaces.cpp:91    INFO| netif 'en0' (status: 1, multicast: 32768, broadcast: 2)\n",
      "2023-09-03 13:38:00.247 (   0.001s) [           C2F78]      netinterfaces.cpp:105   INFO| \tIPv6 addr: 2600:6c50:3f0:87d0:4d1:9ca5:874f:e0c0\n",
      "2023-09-03 13:38:00.247 (   0.001s) [           C2F78]      netinterfaces.cpp:91    INFO| netif 'en0' (status: 1, multicast: 32768, broadcast: 2)\n",
      "2023-09-03 13:38:00.247 (   0.001s) [           C2F78]      netinterfaces.cpp:105   INFO| \tIPv6 addr: 2600:6c50:3f0:87d0:29cf:b6d7:d48a:4410\n",
      "2023-09-03 13:38:00.247 (   0.001s) [           C2F78]      netinterfaces.cpp:91    INFO| netif 'en0' (status: 1, multicast: 32768, broadcast: 2)\n",
      "2023-09-03 13:38:00.247 (   0.001s) [           C2F78]      netinterfaces.cpp:102   INFO| \tIPv4 addr: c0a801c8\n",
      "2023-09-03 13:38:00.247 (   0.001s) [           C2F78]      netinterfaces.cpp:91    INFO| netif 'en0' (status: 1, multicast: 32768, broadcast: 2)\n",
      "2023-09-03 13:38:00.247 (   0.001s) [           C2F78]      netinterfaces.cpp:105   INFO| \tIPv6 addr: 2600:6c50:3f0:87d0::108a\n",
      "2023-09-03 13:38:00.247 (   0.001s) [           C2F78]      netinterfaces.cpp:91    INFO| netif 'bridge0' (status: 1, multicast: 32768, broadcast: 2)\n",
      "2023-09-03 13:38:00.247 (   0.001s) [           C2F78]      netinterfaces.cpp:91    INFO| netif 'awdl0' (status: 1, multicast: 32768, broadcast: 2)\n",
      "2023-09-03 13:38:00.247 (   0.001s) [           C2F78]      netinterfaces.cpp:91    INFO| netif 'awdl0' (status: 1, multicast: 32768, broadcast: 2)\n",
      "2023-09-03 13:38:00.247 (   0.001s) [           C2F78]      netinterfaces.cpp:105   INFO| \tIPv6 addr: fe80::860:57ff:fe03:ec6d%awdl0\n",
      "2023-09-03 13:38:00.247 (   0.001s) [           C2F78]      netinterfaces.cpp:91    INFO| netif 'llw0' (status: 1, multicast: 32768, broadcast: 2)\n",
      "2023-09-03 13:38:00.247 (   0.001s) [           C2F78]      netinterfaces.cpp:91    INFO| netif 'llw0' (status: 1, multicast: 32768, broadcast: 2)\n",
      "2023-09-03 13:38:00.247 (   0.001s) [           C2F78]      netinterfaces.cpp:105   INFO| \tIPv6 addr: fe80::860:57ff:fe03:ec6d%llw0\n",
      "2023-09-03 13:38:00.247 (   0.001s) [           C2F78]      netinterfaces.cpp:91    INFO| netif 'utun3' (status: 1, multicast: 32768, broadcast: 0)\n",
      "2023-09-03 13:38:00.247 (   0.001s) [           C2F78]      netinterfaces.cpp:91    INFO| netif 'utun3' (status: 1, multicast: 32768, broadcast: 0)\n",
      "2023-09-03 13:38:00.247 (   0.001s) [           C2F78]      netinterfaces.cpp:105   INFO| \tIPv6 addr: fe80::68e4:2159:a2dd:ec58%utun3\n",
      "2023-09-03 13:38:00.247 (   0.001s) [           C2F78]      netinterfaces.cpp:91    INFO| netif 'utun4' (status: 1, multicast: 32768, broadcast: 0)\n",
      "2023-09-03 13:38:00.247 (   0.001s) [           C2F78]      netinterfaces.cpp:91    INFO| netif 'utun4' (status: 1, multicast: 32768, broadcast: 0)\n",
      "2023-09-03 13:38:00.247 (   0.001s) [           C2F78]      netinterfaces.cpp:105   INFO| \tIPv6 addr: fe80::6a1f:9bd5:2145:eff4%utun4\n",
      "2023-09-03 13:38:00.247 (   0.001s) [           C2F78]      netinterfaces.cpp:91    INFO| netif 'utun5' (status: 1, multicast: 32768, broadcast: 0)\n",
      "2023-09-03 13:38:00.247 (   0.001s) [           C2F78]      netinterfaces.cpp:91    INFO| netif 'utun5' (status: 1, multicast: 32768, broadcast: 0)\n",
      "2023-09-03 13:38:00.247 (   0.001s) [           C2F78]      netinterfaces.cpp:105   INFO| \tIPv6 addr: fe80::ce81:b1c:bd2c:69e%utun5\n",
      "2023-09-03 13:38:00.247 (   0.001s) [           C2F78]         api_config.cpp:270   INFO| Loaded default config\n"
     ]
    }
   ],
   "source": [
    "\"\"\"Example program to show how to read a multi-channel time series from LSL.\"\"\"\n",
    "\n",
    "from pylsl import StreamInlet, resolve_stream\n",
    "\n",
    "try:\n",
    "    # first resolve an EEG stream on the lab network\n",
    "    print(\"looking for an EEG stream...\")\n",
    "    streams = resolve_stream('type', 'EEG')\n",
    "    # create a new inlet to read from the stream\n",
    "    inlet = StreamInlet(streams[0])\n",
    "    while True:\n",
    "        # get a new sample (you can also omit the timestamp part if you're not\n",
    "        # interested in it)\n",
    "        sample, timestamp = inlet.pull_sample()\n",
    "        print(timestamp, sample)\n",
    "except KeyboardInterrupt as e:\n",
    "    print(\"Ending program\")\n",
    "    raise e\n"
   ]
  }
 ],
 "metadata": {
  "kernelspec": {
   "display_name": "Python 3",
   "language": "python",
   "name": "python3"
  },
  "language_info": {
   "codemirror_mode": {
    "name": "ipython",
    "version": 3
   },
   "file_extension": ".py",
   "mimetype": "text/x-python",
   "name": "python",
   "nbconvert_exporter": "python",
   "pygments_lexer": "ipython3",
   "version": "3.9.6"
  },
  "orig_nbformat": 4
 },
 "nbformat": 4,
 "nbformat_minor": 2
}
