{
 "cells": [
  {
   "cell_type": "code",
   "execution_count": 1,
   "metadata": {},
   "outputs": [
    {
     "name": "stdout",
     "output_type": "stream",
     "text": [
      "pygame 2.5.1 (SDL 2.28.2, Python 3.9.6)\n",
      "Hello from the pygame community. https://www.pygame.org/contribute.html\n"
     ]
    },
    {
     "name": "stderr",
     "output_type": "stream",
     "text": [
      "2023-11-05 14:45:28.165 Python[95532:2811509] ApplePersistenceIgnoreState: Existing state will not be touched. New state will be written to /var/folders/36/kdqqc2hj0vj0qz_r5mtckf700000gn/T/com.apple.python3.savedState\n",
      "/Users/gongqianxi/Library/Python/3.9/lib/python/site-packages/urllib3/__init__.py:34: NotOpenSSLWarning: urllib3 v2.0 only supports OpenSSL 1.1.1+, currently the 'ssl' module is compiled with 'LibreSSL 2.8.3'. See: https://github.com/urllib3/urllib3/issues/3020\n",
      "  warnings.warn(\n"
     ]
    },
    {
     "name": "stdout",
     "output_type": "stream",
     "text": [
      "/Users/gongqianxi/Documents/GitHub/psyco_exp/singlefingerdark/map\n",
      "/Users/gongqianxi/Documents/GitHub/psyco_exp/singlefingerdark/map\n",
      "/Users/gongqianxi/Documents/GitHub/psyco_exp/singlefingerdark/map\n",
      "/Users/gongqianxi/Documents/GitHub/psyco_exp/singlefingerdark/map\n",
      "/Users/gongqianxi/Documents/GitHub/psyco_exp/singlefingerdark/map\n",
      "/Users/gongqianxi/Documents/GitHub/psyco_exp/singlefingerdark/map\n",
      "/Users/gongqianxi/Documents/GitHub/psyco_exp/singlefingerdark/map\n",
      "/Users/gongqianxi/Documents/GitHub/psyco_exp/singlefingerdark/map\n",
      "/Users/gongqianxi/Documents/GitHub/psyco_exp/singlefingerdark/map\n",
      "/Users/gongqianxi/Documents/GitHub/psyco_exp/singlefingerdark/map\n",
      "new task added to lib\n",
      "pathlist ['/Users/gongqianxi/Documents/GitHub/psyco_exp/singlefingerdark/exp/image0.png', '/Users/gongqianxi/Documents/GitHub/psyco_exp/singlefingerdark/exp/image1.png', '/Users/gongqianxi/Documents/GitHub/psyco_exp/singlefingerdark/exp/image2.png', '/Users/gongqianxi/Documents/GitHub/psyco_exp/singlefingerdark/exp/image3.png', '/Users/gongqianxi/Documents/GitHub/psyco_exp/singlefingerdark/exp/image4.png', '/Users/gongqianxi/Documents/GitHub/psyco_exp/singlefingerdark/exp/image5.png', '/Users/gongqianxi/Documents/GitHub/psyco_exp/singlefingerdark/exp/image6.png', '/Users/gongqianxi/Documents/GitHub/psyco_exp/singlefingerdark/exp/image7.png', '/Users/gongqianxi/Documents/GitHub/psyco_exp/singlefingerdark/exp/image8.png', '/Users/gongqianxi/Documents/GitHub/psyco_exp/singlefingerdark/exp/image9.png']\n"
     ]
    },
    {
     "ename": "",
     "evalue": "",
     "output_type": "error",
     "traceback": [
      "\u001b[1;31mThe Kernel crashed while executing code in the the current cell or a previous cell. Please review the code in the cell(s) to identify a possible cause of the failure. Click <a href='https://aka.ms/vscodeJupyterKernelCrash'>here</a> for more info. View Jupyter <a href='command:jupyter.viewOutput'>log</a> for further details."
     ]
    }
   ],
   "source": [
    "import psychopy\n",
    "psychopy.useVersion('2022.1.0')\n",
    "from psychopy import core, visual, event,gui, sound\n",
    "from pylsl import StreamInfo, StreamOutlet\n",
    "from PIL import Image, ImageChops\n",
    "from pathlib import Path\n",
    "import glob\n",
    "from pathlib import Path\n",
    "from natsort import natsorted\n",
    "import random\n",
    "import numpy as np\n",
    "import cv2\n",
    "from zipfile import ZipFile\n",
    "import os\n",
    "from os.path import basename\n",
    "import datetime\n",
    "import pathlib\n",
    "import pylsl\n",
    "import threading\n",
    "import queue\n",
    "import pickle\n",
    "import csv\n",
    "from expfunctions import *\n",
    "\n",
    "testing_with_wifi = True\n",
    "shared_queue=queue.Queue(maxsize=1)\n",
    "now = datetime.datetime.now()\n",
    "\n",
    "exp_running=True\n",
    "\n",
    "import time\n",
    "from pylsl import StreamInfo, StreamOutlet\n",
    "\n",
    "paradigms=['go','nogo', 'freehand']\n",
    "#Crown-215\n",
    "beep1 = sound.Sound(\n",
    "    value = 'A', secs = 0.2,\n",
    "    volume = 0.5)\n",
    "\n",
    "\n",
    "def main():\n",
    "\n",
    "    # experiment information \n",
    "    numsecs=2\n",
    "    numexp=1\n",
    "    numrest=1\n",
    "    #aux_num_samples = int(duration * aux_sample_rate)\n",
    "\n",
    "    # Create an outlet for the second stream\n",
    "    #stream_info = pylsl.StreamInfo('combined', 'EEG', 17, 0, 'float32', 'example_stream_out_001') #9 for crown\n",
    "    #outlet = pylsl.StreamOutlet(stream_info)\n",
    "\n",
    "    #input(\"Make sure it's recording then press enter...\")\n",
    "\n",
    "    #Instantiate the PsychoPy window and stimuli.\n",
    "    win = visual.Window([1512, 982], allowGUI=None, fullscr=True, monitor='testMonitor',units='deg')\n",
    "\n",
    "    #load path, load images\n",
    "    thispath='/Users/qianxigong/Downloads/introspection'\n",
    "    contours = np.load('handcountours.npy', allow_pickle=True)\n",
    "    permu_list=list(range(0,len(contours)))\n",
    "    \n",
    "    exp_lib = {\n",
    "    \"single\": os.getcwd()+\"/handmapexp\",\n",
    "    \"double\":  os.getcwd()+\"/handmapboth\",\n",
    "    \"lefttoright\": os.getcwd()+\"/exp_allfingerlefttoright[[35, 25, 11], [19, 31, 21], [15, 17, 13], [27, 29, 23], [37, 39, 33], [36, 38, 32], [26, 28, 22], [14, 16, 12], [18, 30, 20], [34, 24, 10]]\",\n",
    "    \"righttoleft\": os.getcwd()+\"/exp_allfingerrighttoleft[[34, 24, 10], [18, 30, 20], [14, 16, 12], [26, 28, 22], [36, 38, 32], [37, 39, 33], [27, 29, 23], [15, 17, 13], [19, 31, 21], [35, 25, 11]]\",\n",
    "    #\"singlefinger\": os.getcwd()+\"/exp_eachfinger[[35, 25, 11], [19, 31, 21], [15, 17, 13], [27, 29, 23], [37, 39, 33], [36, 38, 32], [26, 28, 22], [14, 16, 12], [18, 30, 20], [34, 24, 10]]\",\n",
    "    }\n",
    "    duration_per_run = [30, 30, 30]\n",
    "\n",
    "    exp_names = [\"singlefingerdark\"]\n",
    "  \n",
    "    new_exp_dic = {\"updown\": [[35,19,15,27,37,36,26,14,18,34],[25,24,31,17,29,39,38,28,16,30],[11,21,13,23,33,32,22,12,20,10],[6,7,1,0,5,4,9,8],[3,2]], \"singlefingerdark\": [[35, 25, 11], [19, 31, 21], [15, 17, 13], [27, 29, 23], [37, 39, 33], [36, 38, 32], [26, 28, 22], [14, 16, 12], [18, 30, 20], [34, 24, 10]]}\n",
    "\n",
    "\n",
    "    stim_matrix=[]\n",
    "\n",
    "    for exp_name in exp_names:\n",
    "        if exp_name not in exp_lib.keys():\n",
    "            # create experiment directory if it doesn't exist\n",
    "            if exp_name in new_exp_dic.keys():\n",
    "                listoflist=new_exp_dic[exp_name]\n",
    "                exp_path, map_exp=custom_experiement(listoflist, inclusive=False, newfunction=exp_name, iswhite=False)\n",
    "                exp_lib[exp_name]=exp_path\n",
    "                print(\"new task added to lib\")\n",
    "                with open('lib_dict.pickle', 'wb') as f:\n",
    "                # dump the dictionary to the file\n",
    "                    pickle.dump(exp_lib, f)\n",
    "                pathlist = getpicpaths(exp_lib[exp_name])\n",
    "                print(\"pathlist\", pathlist)\n",
    "                stim_list=getstims(pathlist,window=win)\n",
    "                stim_matrix.append(stim_list)   \n",
    "                print(\"matrix\", stim_matrix)\n",
    "            else:\n",
    "                print(\"class missing information ignored\")\n",
    "        else:\n",
    "            pathlist = getpicpaths(exp_lib[exp_name])\n",
    "            stim_list=getstims(pathlist, window=win)\n",
    "            stim_matrix.append(stim_list)\n",
    "   \n",
    "\n",
    "main()"
   ]
  },
  {
   "cell_type": "code",
   "execution_count": 6,
   "metadata": {},
   "outputs": [
    {
     "name": "stdout",
     "output_type": "stream",
     "text": [
      "(2, 3, 1) (2, 3, 1) (2, 3, 1) (2, 3, 1)\n"
     ]
    }
   ],
   "source": [
    "# Shuffle the lists\n",
    "stim_list_total = [1,2,3]\n",
    "movement_list_total = [1,2,3]\n",
    "idx1_total = [1,2,3]\n",
    "idx2_total = [1,2,3]\n",
    "\n",
    "zipped_lists = list(zip(stim_list_total, movement_list_total, idx1_total, idx2_total))\n",
    "random.shuffle(zipped_lists)\n",
    "stim_list_total, movement_list_total, idx1_total, idx2_total = zip(*zipped_lists)\n",
    "print()"
   ]
  },
  {
   "cell_type": "code",
   "execution_count": 2,
   "metadata": {},
   "outputs": [
    {
     "name": "stdout",
     "output_type": "stream",
     "text": [
      "pygame 2.5.1 (SDL 2.28.2, Python 3.9.6)\n",
      "Hello from the pygame community. https://www.pygame.org/contribute.html\n"
     ]
    },
    {
     "name": "stderr",
     "output_type": "stream",
     "text": [
      "2023-11-05 18:36:46.350 Python[98021:2886422] ApplePersistenceIgnoreState: Existing state will not be touched. New state will be written to /var/folders/36/kdqqc2hj0vj0qz_r5mtckf700000gn/T/com.apple.python3.savedState\n",
      "/Users/gongqianxi/Library/Python/3.9/lib/python/site-packages/urllib3/__init__.py:34: NotOpenSSLWarning: urllib3 v2.0 only supports OpenSSL 1.1.1+, currently the 'ssl' module is compiled with 'LibreSSL 2.8.3'. See: https://github.com/urllib3/urllib3/issues/3020\n",
      "  warnings.warn(\n"
     ]
    },
    {
     "ename": "",
     "evalue": "",
     "output_type": "error",
     "traceback": [
      "\u001b[1;31mThe Kernel crashed while executing code in the the current cell or a previous cell. Please review the code in the cell(s) to identify a possible cause of the failure. Click <a href='https://aka.ms/vscodeJupyterKernelCrash'>here</a> for more info. View Jupyter <a href='command:jupyter.viewOutput'>log</a> for further details."
     ]
    }
   ],
   "source": [
    "win = visual.Window([1512, 982], allowGUI=None, fullscr=True, monitor='testMonitor',units='deg')\n",
    "\n",
    "# Create a white and black rectangle\n",
    "rect = visual.Rect(\n",
    "     win=win,\n",
    "    width=100,  # Width of the rectangle (adjust as needed)\n",
    "    height=100,  # Height of the rectangle (adjust as needed)\n",
    "    fillColor='white',  # Initial fill color\n",
    "    lineColor='black',  # Border color\n",
    "    pos=(756, -491))"
   ]
  },
  {
   "cell_type": "code",
   "execution_count": 1,
   "metadata": {},
   "outputs": [
    {
     "name": "stdout",
     "output_type": "stream",
     "text": [
      "pygame 2.5.1 (SDL 2.28.2, Python 3.9.6)\n",
      "Hello from the pygame community. https://www.pygame.org/contribute.html\n"
     ]
    },
    {
     "name": "stderr",
     "output_type": "stream",
     "text": [
      "2023-11-05 23:16:14.238 Python[99197:2919475] ApplePersistenceIgnoreState: Existing state will not be touched. New state will be written to /var/folders/36/kdqqc2hj0vj0qz_r5mtckf700000gn/T/com.apple.python3.savedState\n",
      "/Users/gongqianxi/Library/Python/3.9/lib/python/site-packages/urllib3/__init__.py:34: NotOpenSSLWarning: urllib3 v2.0 only supports OpenSSL 1.1.1+, currently the 'ssl' module is compiled with 'LibreSSL 2.8.3'. See: https://github.com/urllib3/urllib3/issues/3020\n",
      "  warnings.warn(\n"
     ]
    },
    {
     "ename": "",
     "evalue": "",
     "output_type": "error",
     "traceback": [
      "\u001b[1;31mThe Kernel crashed while executing code in the the current cell or a previous cell. Please review the code in the cell(s) to identify a possible cause of the failure. Click <a href='https://aka.ms/vscodeJupyterKernelCrash'>here</a> for more info. View Jupyter <a href='command:jupyter.viewOutput'>log</a> for further details."
     ]
    }
   ],
   "source": [
    "from psychopy import visual, core, event\n",
    "\n",
    "# Create a window\n",
    "win = visual.Window([1440, 900], allowGUI=None, fullscr=True, monitor='testMonitor',units='pix')\n",
    "\n",
    "\n",
    "# Create a white and black rectangle\n",
    "rect = visual.Rect(\n",
    "    win=win,\n",
    "    width=300,  # Width of the rectangle (adjust as needed)\n",
    "    height=300,  # Height of the rectangle (adjust as needed)\n",
    "    fillColor='black',  # Initial fill color\n",
    "    lineColor='black',  # Border color\n",
    "    pos=(1512/2, -982/2))\n"
   ]
  },
  {
   "cell_type": "code",
   "execution_count": 1,
   "metadata": {},
   "outputs": [
    {
     "name": "stdout",
     "output_type": "stream",
     "text": [
      "pygame 2.5.1 (SDL 2.28.2, Python 3.9.6)\n",
      "Hello from the pygame community. https://www.pygame.org/contribute.html\n"
     ]
    },
    {
     "name": "stderr",
     "output_type": "stream",
     "text": [
      "2023-11-05 23:38:11.239 Python[436:2938561] ApplePersistenceIgnoreState: Existing state will not be touched. New state will be written to /var/folders/36/kdqqc2hj0vj0qz_r5mtckf700000gn/T/com.apple.python3.savedState\n",
      "/Users/gongqianxi/Library/Python/3.9/lib/python/site-packages/urllib3/__init__.py:34: NotOpenSSLWarning: urllib3 v2.0 only supports OpenSSL 1.1.1+, currently the 'ssl' module is compiled with 'LibreSSL 2.8.3'. See: https://github.com/urllib3/urllib3/issues/3020\n",
      "  warnings.warn(\n"
     ]
    },
    {
     "name": "stdout",
     "output_type": "stream",
     "text": [
      "PsychoPy3, version 2023.2.1 (c)Jonathan Peirce 2018, GNU GPL license\n"
     ]
    },
    {
     "ename": "ValueError",
     "evalue": "The truth value of an array with more than one element is ambiguous. Use a.any() or a.all()",
     "output_type": "error",
     "traceback": [
      "\u001b[0;31m---------------------------------------------------------------------------\u001b[0m",
      "\u001b[0;31mValueError\u001b[0m                                Traceback (most recent call last)",
      "\u001b[1;32mUntitled-1.ipynb Cell 5\u001b[0m line \u001b[0;36m3\n\u001b[1;32m     <a href='vscode-notebook-cell:Untitled-1.ipynb?jupyter-notebook#W4sdW50aXRsZWQ%3D?line=30'>31</a>\u001b[0m \u001b[39mwhile\u001b[39;00m \u001b[39mnot\u001b[39;00m event\u001b[39m.\u001b[39mgetKeys(keyList\u001b[39m=\u001b[39m[\u001b[39m'\u001b[39m\u001b[39mescape\u001b[39m\u001b[39m'\u001b[39m]):  \u001b[39m# Press 'Escape' to exit the loop\u001b[39;00m\n\u001b[1;32m     <a href='vscode-notebook-cell:Untitled-1.ipynb?jupyter-notebook#W4sdW50aXRsZWQ%3D?line=31'>32</a>\u001b[0m     \u001b[39mif\u001b[39;00m color_timer\u001b[39m.\u001b[39mgetTime() \u001b[39m<\u001b[39m \u001b[39m0\u001b[39m:\n\u001b[0;32m---> <a href='vscode-notebook-cell:Untitled-1.ipynb?jupyter-notebook#W4sdW50aXRsZWQ%3D?line=32'>33</a>\u001b[0m         change_color()  \u001b[39m# Call the function to change color\u001b[39;00m\n\u001b[1;32m     <a href='vscode-notebook-cell:Untitled-1.ipynb?jupyter-notebook#W4sdW50aXRsZWQ%3D?line=34'>35</a>\u001b[0m     \u001b[39m# Draw the rectangle\u001b[39;00m\n\u001b[1;32m     <a href='vscode-notebook-cell:Untitled-1.ipynb?jupyter-notebook#W4sdW50aXRsZWQ%3D?line=35'>36</a>\u001b[0m     rect\u001b[39m.\u001b[39mdraw()\n",
      "\u001b[1;32mUntitled-1.ipynb Cell 5\u001b[0m line \u001b[0;36m2\n\u001b[1;32m     <a href='vscode-notebook-cell:Untitled-1.ipynb?jupyter-notebook#W4sdW50aXRsZWQ%3D?line=23'>24</a>\u001b[0m \u001b[39mdef\u001b[39;00m \u001b[39mchange_color\u001b[39m():\n\u001b[0;32m---> <a href='vscode-notebook-cell:Untitled-1.ipynb?jupyter-notebook#W4sdW50aXRsZWQ%3D?line=24'>25</a>\u001b[0m     \u001b[39mif\u001b[39;00m rect\u001b[39m.\u001b[39mfillColor \u001b[39m==\u001b[39m \u001b[39m'\u001b[39m\u001b[39mwhite\u001b[39m\u001b[39m'\u001b[39m:\n\u001b[1;32m     <a href='vscode-notebook-cell:Untitled-1.ipynb?jupyter-notebook#W4sdW50aXRsZWQ%3D?line=25'>26</a>\u001b[0m         rect\u001b[39m.\u001b[39mfillColor \u001b[39m=\u001b[39m \u001b[39m'\u001b[39m\u001b[39mblack\u001b[39m\u001b[39m'\u001b[39m\n\u001b[1;32m     <a href='vscode-notebook-cell:Untitled-1.ipynb?jupyter-notebook#W4sdW50aXRsZWQ%3D?line=26'>27</a>\u001b[0m     \u001b[39melse\u001b[39;00m:\n",
      "\u001b[0;31mValueError\u001b[0m: The truth value of an array with more than one element is ambiguous. Use a.any() or a.all()"
     ]
    },
    {
     "ename": "",
     "evalue": "",
     "output_type": "error",
     "traceback": [
      "\u001b[1;31mThe Kernel crashed while executing code in the the current cell or a previous cell. Please review the code in the cell(s) to identify a possible cause of the failure. Click <a href='https://aka.ms/vscodeJupyterKernelCrash'>here</a> for more info. View Jupyter <a href='command:jupyter.viewOutput'>log</a> for further details."
     ]
    }
   ],
   "source": [
    "from psychopy import visual, core, event\n",
    "\n",
    "!psychopy --version\n",
    "\n",
    "# Create a window\n",
    "win = visual.Window([1512, 982], allowGUI=None, fullscr=True, monitor='testMonitor', units='pix')\n",
    "\n",
    "# Create a white and black rectangle\n",
    "rect = visual.Rect(\n",
    "    win=win,\n",
    "    width=300,  # Width of the rectangle (adjust as needed)\n",
    "    height=300,  # Height of the rectangle (adjust as needed)\n",
    "    fillColor='black',  # Initial fill color\n",
    "    lineColor='black',  # Border color\n",
    "    pos=(1512/2, -982/2))\n",
    "\n",
    "# Duration for each color (in seconds)\n",
    "color_duration = 2.0  # You can adjust this as needed\n",
    "\n",
    "# Timer to keep track of color changes\n",
    "color_timer = core.CountdownTimer(color_duration)\n",
    "\n",
    "# Function to change the rectangle's color\n",
    "def change_color():\n",
    "    if rect.fillColor == 'white':\n",
    "        rect.fillColor = 'black'\n",
    "    else:\n",
    "        rect.fillColor = 'white'\n",
    "\n",
    "# Main loop\n",
    "while not event.getKeys(keyList=['escape']):  # Press 'Escape' to exit the loop\n",
    "    if color_timer.getTime() < 0:\n",
    "        change_color()  # Call the function to change color\n",
    "    \n",
    "    # Draw the rectangle\n",
    "    rect.draw()\n",
    "    \n",
    "    # Update the screen\n",
    "    win.flip()\n",
    "\n",
    "# Close the window when done\n",
    "win.close()\n"
   ]
  }
 ],
 "metadata": {
  "kernelspec": {
   "display_name": "Python 3",
   "language": "python",
   "name": "python3"
  },
  "language_info": {
   "codemirror_mode": {
    "name": "ipython",
    "version": 3
   },
   "file_extension": ".py",
   "mimetype": "text/x-python",
   "name": "python",
   "nbconvert_exporter": "python",
   "pygments_lexer": "ipython3",
   "version": "3.9.6"
  },
  "orig_nbformat": 4
 },
 "nbformat": 4,
 "nbformat_minor": 2
}
