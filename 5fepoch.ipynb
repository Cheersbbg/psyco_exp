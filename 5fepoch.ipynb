{
 "cells": [
  {
   "cell_type": "code",
   "execution_count": 35,
   "metadata": {},
   "outputs": [
    {
     "name": "stdout",
     "output_type": "stream",
     "text": [
      "Creating RawArray with float64 data, n_channels=22, n_times=3585000\n",
      "    Range : 0 ... 3584999 =      0.000 ...  3584.999 secs\n",
      "Ready.\n"
     ]
    }
   ],
   "source": [
    "import mne\n",
    "import scipy.io\n",
    "\n",
    "# Load the .mat file containing electrode locations\n",
    "mat_data = scipy.io.loadmat('5f_data/5F-SubjectE-160321-5St-SGLHand-HFREQ.mat')\n",
    "\n",
    "o_data = mat_data['o']\n",
    "\n",
    "# Access data within 'o' (assuming 'o' is the main data structure you're interested in)\n",
    "id_data = o_data['id']\n",
    "tag_data = o_data['tag']\n",
    "samp_freq_data = o_data['sampFreq']\n",
    "nS_data = o_data['nS']\n",
    "marker_data = o_data['marker']\n",
    "data_data = o_data['data']\n",
    "chnames_data = o_data['chnames']\n",
    "binsuV_data = o_data['binsuV']\n",
    "\n",
    "eeg_data = data_data[0][0]\n",
    "chnames = chnames_data[0][0]\n",
    "channel_name_arrays=chnames.tolist()\n",
    "channel_names = [name[0] for name in channel_name_arrays]\n",
    "channel_names = [name[0] for name in channel_names]\n",
    "\n",
    "markers = [marker[0] for marker in marker_data][0]\n",
    "freq=samp_freq_data[0][0][0][0]\n",
    "info = mne.create_info(channel_names, freq)\n",
    "raw = mne.io.RawArray(eeg_data.T, info)"
   ]
  },
  {
   "cell_type": "code",
   "execution_count": 36,
   "metadata": {},
   "outputs": [
    {
     "name": "stdout",
     "output_type": "stream",
     "text": [
      "['eeg', 'eeg', 'eeg', 'eeg', 'eeg', 'eeg', 'eeg', 'eeg', 'eeg', 'eeg', 'eeg', 'eeg', 'eeg', 'eeg', 'eeg', 'eeg', 'eeg', 'eeg', 'eeg', 'eeg', 'eeg', 'eeg']\n",
      "EEG channel type selected for re-referencing\n",
      "Applying a custom ('EEG',) reference.\n"
     ]
    },
    {
     "name": "stderr",
     "output_type": "stream",
     "text": [
      "/var/folders/36/kdqqc2hj0vj0qz_r5mtckf700000gn/T/ipykernel_42156/509208631.py:3: RuntimeWarning: The unit for channel(s) Fp1 has changed from NA to V.\n",
      "  raw.set_channel_types({ch: 'eeg'})\n",
      "/var/folders/36/kdqqc2hj0vj0qz_r5mtckf700000gn/T/ipykernel_42156/509208631.py:3: RuntimeWarning: The unit for channel(s) Fp2 has changed from NA to V.\n",
      "  raw.set_channel_types({ch: 'eeg'})\n",
      "/var/folders/36/kdqqc2hj0vj0qz_r5mtckf700000gn/T/ipykernel_42156/509208631.py:3: RuntimeWarning: The unit for channel(s) F3 has changed from NA to V.\n",
      "  raw.set_channel_types({ch: 'eeg'})\n",
      "/var/folders/36/kdqqc2hj0vj0qz_r5mtckf700000gn/T/ipykernel_42156/509208631.py:3: RuntimeWarning: The unit for channel(s) F4 has changed from NA to V.\n",
      "  raw.set_channel_types({ch: 'eeg'})\n",
      "/var/folders/36/kdqqc2hj0vj0qz_r5mtckf700000gn/T/ipykernel_42156/509208631.py:3: RuntimeWarning: The unit for channel(s) C3 has changed from NA to V.\n",
      "  raw.set_channel_types({ch: 'eeg'})\n",
      "/var/folders/36/kdqqc2hj0vj0qz_r5mtckf700000gn/T/ipykernel_42156/509208631.py:3: RuntimeWarning: The unit for channel(s) C4 has changed from NA to V.\n",
      "  raw.set_channel_types({ch: 'eeg'})\n",
      "/var/folders/36/kdqqc2hj0vj0qz_r5mtckf700000gn/T/ipykernel_42156/509208631.py:3: RuntimeWarning: The unit for channel(s) P3 has changed from NA to V.\n",
      "  raw.set_channel_types({ch: 'eeg'})\n",
      "/var/folders/36/kdqqc2hj0vj0qz_r5mtckf700000gn/T/ipykernel_42156/509208631.py:3: RuntimeWarning: The unit for channel(s) P4 has changed from NA to V.\n",
      "  raw.set_channel_types({ch: 'eeg'})\n",
      "/var/folders/36/kdqqc2hj0vj0qz_r5mtckf700000gn/T/ipykernel_42156/509208631.py:3: RuntimeWarning: The unit for channel(s) O1 has changed from NA to V.\n",
      "  raw.set_channel_types({ch: 'eeg'})\n",
      "/var/folders/36/kdqqc2hj0vj0qz_r5mtckf700000gn/T/ipykernel_42156/509208631.py:3: RuntimeWarning: The unit for channel(s) O2 has changed from NA to V.\n",
      "  raw.set_channel_types({ch: 'eeg'})\n",
      "/var/folders/36/kdqqc2hj0vj0qz_r5mtckf700000gn/T/ipykernel_42156/509208631.py:3: RuntimeWarning: The unit for channel(s) A1 has changed from NA to V.\n",
      "  raw.set_channel_types({ch: 'eeg'})\n",
      "/var/folders/36/kdqqc2hj0vj0qz_r5mtckf700000gn/T/ipykernel_42156/509208631.py:3: RuntimeWarning: The unit for channel(s) A2 has changed from NA to V.\n",
      "  raw.set_channel_types({ch: 'eeg'})\n",
      "/var/folders/36/kdqqc2hj0vj0qz_r5mtckf700000gn/T/ipykernel_42156/509208631.py:3: RuntimeWarning: The unit for channel(s) F7 has changed from NA to V.\n",
      "  raw.set_channel_types({ch: 'eeg'})\n",
      "/var/folders/36/kdqqc2hj0vj0qz_r5mtckf700000gn/T/ipykernel_42156/509208631.py:3: RuntimeWarning: The unit for channel(s) F8 has changed from NA to V.\n",
      "  raw.set_channel_types({ch: 'eeg'})\n",
      "/var/folders/36/kdqqc2hj0vj0qz_r5mtckf700000gn/T/ipykernel_42156/509208631.py:3: RuntimeWarning: The unit for channel(s) T3 has changed from NA to V.\n",
      "  raw.set_channel_types({ch: 'eeg'})\n",
      "/var/folders/36/kdqqc2hj0vj0qz_r5mtckf700000gn/T/ipykernel_42156/509208631.py:3: RuntimeWarning: The unit for channel(s) T4 has changed from NA to V.\n",
      "  raw.set_channel_types({ch: 'eeg'})\n",
      "/var/folders/36/kdqqc2hj0vj0qz_r5mtckf700000gn/T/ipykernel_42156/509208631.py:3: RuntimeWarning: The unit for channel(s) T5 has changed from NA to V.\n",
      "  raw.set_channel_types({ch: 'eeg'})\n",
      "/var/folders/36/kdqqc2hj0vj0qz_r5mtckf700000gn/T/ipykernel_42156/509208631.py:3: RuntimeWarning: The unit for channel(s) T6 has changed from NA to V.\n",
      "  raw.set_channel_types({ch: 'eeg'})\n",
      "/var/folders/36/kdqqc2hj0vj0qz_r5mtckf700000gn/T/ipykernel_42156/509208631.py:3: RuntimeWarning: The unit for channel(s) Fz has changed from NA to V.\n",
      "  raw.set_channel_types({ch: 'eeg'})\n",
      "/var/folders/36/kdqqc2hj0vj0qz_r5mtckf700000gn/T/ipykernel_42156/509208631.py:3: RuntimeWarning: The unit for channel(s) Cz has changed from NA to V.\n",
      "  raw.set_channel_types({ch: 'eeg'})\n",
      "/var/folders/36/kdqqc2hj0vj0qz_r5mtckf700000gn/T/ipykernel_42156/509208631.py:3: RuntimeWarning: The unit for channel(s) Pz has changed from NA to V.\n",
      "  raw.set_channel_types({ch: 'eeg'})\n",
      "/var/folders/36/kdqqc2hj0vj0qz_r5mtckf700000gn/T/ipykernel_42156/509208631.py:3: RuntimeWarning: The unit for channel(s) X5 has changed from NA to V.\n",
      "  raw.set_channel_types({ch: 'eeg'})\n"
     ]
    },
    {
     "name": "stdout",
     "output_type": "stream",
     "text": [
      "NOTE: pick_channels() is a legacy function. New code should use inst.pick(...).\n"
     ]
    }
   ],
   "source": [
    "#raw.plot(start=40, duration=10)\n",
    "for ch in raw.ch_names:\n",
    "    raw.set_channel_types({ch: 'eeg'})\n",
    "print(raw.get_channel_types())\n",
    "channels_to_drop = ['O1', 'O2', 'A1', 'A2','X5']\n",
    "#referenced\n",
    "raw.set_eeg_reference(ref_channels=['A1', 'A2'])\n",
    "raw = raw.pick_channels(ch_names=[ch for ch in raw.ch_names if ch not in channels_to_drop])\n",
    "\n",
    "montage =  mne.channels.make_standard_montage('standard_1020')\n",
    "raw.set_montage(montage)\n",
    "\n",
    "#mne resample  \n",
    "raw_resampled = raw.copy().resample(250.0, npad='auto')"
   ]
  },
  {
   "cell_type": "code",
   "execution_count": 37,
   "metadata": {},
   "outputs": [
    {
     "name": "stdout",
     "output_type": "stream",
     "text": [
      "      Value  Consecutive Count    onset\n",
      "0         0             148576        0\n",
      "1        99               1029   148576\n",
      "2         0               4013   149605\n",
      "3        99               1025   153618\n",
      "4         0               3014   154643\n",
      "...     ...                ...      ...\n",
      "1924      0               2341  3574010\n",
      "1925      5               1281  3576351\n",
      "1926      0                  2  3577632\n",
      "1927     92               1026  3577634\n",
      "1928      0               6340  3578660\n",
      "\n",
      "[1929 rows x 3 columns]\n"
     ]
    }
   ],
   "source": [
    "#make event arr\n",
    "import numpy as np\n",
    "import pandas as pd\n",
    "import torch\n",
    "\n",
    "# Your data array\n",
    "data_array = markers\n",
    "\n",
    "# Initialize variables to keep track of the current value and its count\n",
    "current_value = None\n",
    "current_count = 0\n",
    "value_counts = []\n",
    "current_pos = 0\n",
    "\n",
    "# Iterate through the data array\n",
    "for pos, value in enumerate(data_array.flatten()):\n",
    "    if value == current_value:\n",
    "        # Increment the count for consecutive occurrences\n",
    "        current_count += 1\n",
    "    else:\n",
    "        # If a new value is encountered, add the previous value and count to the list\n",
    "        if current_value is not None:\n",
    "            value_counts.append((current_value, current_count,current_pos))\n",
    "        # Reset count for the new value\n",
    "        current_value = value\n",
    "        current_pos = pos\n",
    "        current_count = 1\n",
    "        \n",
    "\n",
    "# Add the last value and its count to the list\n",
    "if current_value is not None:\n",
    "    value_counts.append((current_value, current_count, current_pos))\n",
    "\n",
    "# Create a DataFrame to present the consecutive counts in a table format\n",
    "counts_table = pd.DataFrame(value_counts, columns=['Value', 'Consecutive Count','onset'])\n",
    "\n",
    "# Print the table\n",
    "print(counts_table)\n",
    "csv_file_path = 'consecutive_counts.csv'\n",
    "\n",
    "# Use the to_csv method to save the DataFrame to a CSV file\n",
    "#counts_table.to_csv(csv_file_path, index=False)\n",
    "\n",
    "positions_in_samples = counts_table[counts_table[\"Value\"].isin ([1,2,3,4,5,0])]['onset']\n",
    "positions_in_samples = (positions_in_samples / freq) * 250\n",
    "\n",
    "events = counts_table[counts_table[\"Value\"].isin ([1,2,3,4,5,0])]['Value']\n",
    "event_arr = np.array([positions_in_samples, np.zeros(len(positions_in_samples)), events]).T.astype(int)\n",
    "index_first_one = np.argmax(event_arr[:, 2] == 1)\n",
    "\n",
    "# Keep only the rows from index_first_one and after, where the last column is 0 or 1\n",
    "event_arr = event_arr[index_first_one:]"
   ]
  },
  {
   "cell_type": "code",
   "execution_count": 38,
   "metadata": {},
   "outputs": [
    {
     "data": {
      "text/plain": [
       "array([[ 41547,      0,      1],\n",
       "       [ 42253,      0,      0],\n",
       "       [ 42857,      0,      4],\n",
       "       ...,\n",
       "       [894087,      0,      5],\n",
       "       [894408,      0,      0],\n",
       "       [894665,      0,      0]])"
      ]
     },
     "execution_count": 38,
     "metadata": {},
     "output_type": "execute_result"
    }
   ],
   "source": [
    "event_arr"
   ]
  },
  {
   "cell_type": "code",
   "execution_count": 39,
   "metadata": {},
   "outputs": [],
   "source": [
    "import pandas as pd\n",
    "#make csv\n",
    "df = pd.DataFrame(event_arr, columns=['timestamps', 'source', 'target'])\n",
    "\n",
    "for i in range(len(df['source'])):\n",
    "    if i % 2 != 0:\n",
    "        df['source'][i] = df['target'][i-1]\n",
    "df.columns = [\"ts\",\"u\",\"i\"]\n",
    "\n",
    "\n",
    "# Initialize empty lists to store edge labels and edge indices\n",
    "edge_labels = []\n",
    "edge_indices = []\n",
    "\n",
    "# Iterate through the DataFrame\n",
    "for index, row in df.iterrows():\n",
    "    u = row['u']\n",
    "    i = row['i']\n",
    "    \n",
    "    # Skip rows where both u and i are zero, as they don't represent edges\n",
    "    \n",
    "    edge_labels.append(f'u{u}_i{i}')\n",
    "    edge_indices.append(index)\n",
    "\n",
    "# Create a new DataFrame for edge labels and indices\n",
    "edges_df = pd.DataFrame({'label': edge_labels, 'idx': edge_indices})\n",
    "\n",
    "# Horizontal Concatenation (Side by Side)\n",
    "new_df = pd.concat([df, edges_df], axis=1)"
   ]
  },
  {
   "cell_type": "code",
   "execution_count": 40,
   "metadata": {},
   "outputs": [
    {
     "data": {
      "text/html": [
       "<div>\n",
       "<style scoped>\n",
       "    .dataframe tbody tr th:only-of-type {\n",
       "        vertical-align: middle;\n",
       "    }\n",
       "\n",
       "    .dataframe tbody tr th {\n",
       "        vertical-align: top;\n",
       "    }\n",
       "\n",
       "    .dataframe thead th {\n",
       "        text-align: right;\n",
       "    }\n",
       "</style>\n",
       "<table border=\"1\" class=\"dataframe\">\n",
       "  <thead>\n",
       "    <tr style=\"text-align: right;\">\n",
       "      <th></th>\n",
       "      <th>ts</th>\n",
       "      <th>u</th>\n",
       "      <th>i</th>\n",
       "      <th>label</th>\n",
       "      <th>idx</th>\n",
       "    </tr>\n",
       "  </thead>\n",
       "  <tbody>\n",
       "    <tr>\n",
       "      <th>0</th>\n",
       "      <td>41547</td>\n",
       "      <td>1</td>\n",
       "      <td>2</td>\n",
       "      <td>u0_i1</td>\n",
       "      <td>0</td>\n",
       "    </tr>\n",
       "    <tr>\n",
       "      <th>1</th>\n",
       "      <td>42253</td>\n",
       "      <td>2</td>\n",
       "      <td>1</td>\n",
       "      <td>u1_i0</td>\n",
       "      <td>1</td>\n",
       "    </tr>\n",
       "    <tr>\n",
       "      <th>2</th>\n",
       "      <td>42857</td>\n",
       "      <td>1</td>\n",
       "      <td>5</td>\n",
       "      <td>u0_i4</td>\n",
       "      <td>2</td>\n",
       "    </tr>\n",
       "    <tr>\n",
       "      <th>3</th>\n",
       "      <td>43181</td>\n",
       "      <td>5</td>\n",
       "      <td>1</td>\n",
       "      <td>u4_i0</td>\n",
       "      <td>3</td>\n",
       "    </tr>\n",
       "    <tr>\n",
       "      <th>4</th>\n",
       "      <td>43583</td>\n",
       "      <td>1</td>\n",
       "      <td>3</td>\n",
       "      <td>u0_i2</td>\n",
       "      <td>4</td>\n",
       "    </tr>\n",
       "    <tr>\n",
       "      <th>...</th>\n",
       "      <td>...</td>\n",
       "      <td>...</td>\n",
       "      <td>...</td>\n",
       "      <td>...</td>\n",
       "      <td>...</td>\n",
       "    </tr>\n",
       "    <tr>\n",
       "      <th>1910</th>\n",
       "      <td>893179</td>\n",
       "      <td>1</td>\n",
       "      <td>6</td>\n",
       "      <td>u0_i5</td>\n",
       "      <td>1910</td>\n",
       "    </tr>\n",
       "    <tr>\n",
       "      <th>1911</th>\n",
       "      <td>893502</td>\n",
       "      <td>6</td>\n",
       "      <td>1</td>\n",
       "      <td>u5_i0</td>\n",
       "      <td>1911</td>\n",
       "    </tr>\n",
       "    <tr>\n",
       "      <th>1912</th>\n",
       "      <td>894087</td>\n",
       "      <td>1</td>\n",
       "      <td>6</td>\n",
       "      <td>u0_i5</td>\n",
       "      <td>1912</td>\n",
       "    </tr>\n",
       "    <tr>\n",
       "      <th>1913</th>\n",
       "      <td>894408</td>\n",
       "      <td>6</td>\n",
       "      <td>1</td>\n",
       "      <td>u5_i0</td>\n",
       "      <td>1913</td>\n",
       "    </tr>\n",
       "    <tr>\n",
       "      <th>1914</th>\n",
       "      <td>894665</td>\n",
       "      <td>1</td>\n",
       "      <td>1</td>\n",
       "      <td>u0_i0</td>\n",
       "      <td>1914</td>\n",
       "    </tr>\n",
       "  </tbody>\n",
       "</table>\n",
       "<p>1915 rows × 5 columns</p>\n",
       "</div>"
      ],
      "text/plain": [
       "          ts  u  i  label   idx\n",
       "0      41547  1  2  u0_i1     0\n",
       "1      42253  2  1  u1_i0     1\n",
       "2      42857  1  5  u0_i4     2\n",
       "3      43181  5  1  u4_i0     3\n",
       "4      43583  1  3  u0_i2     4\n",
       "...      ... .. ..    ...   ...\n",
       "1910  893179  1  6  u0_i5  1910\n",
       "1911  893502  6  1  u5_i0  1911\n",
       "1912  894087  1  6  u0_i5  1912\n",
       "1913  894408  6  1  u5_i0  1913\n",
       "1914  894665  1  1  u0_i0  1914\n",
       "\n",
       "[1915 rows x 5 columns]"
      ]
     },
     "execution_count": 40,
     "metadata": {},
     "output_type": "execute_result"
    }
   ],
   "source": [
    "#make empty state 1\n",
    "new_df['u'] = new_df['u'] + 1\n",
    "new_df['i'] = new_df['i'] + 1\n",
    "new_df\n"
   ]
  },
  {
   "cell_type": "code",
   "execution_count": 41,
   "metadata": {},
   "outputs": [],
   "source": [
    "edgefeatures = []\n",
    "\n",
    "# Assuming you have a NumPy array `data` with your data\n",
    "data = raw_resampled.get_data()\n",
    "\n",
    "# Assuming `new_df['ts']` contains your 'ts' values\n",
    "for i in new_df['ts']:\n",
    "    edgefeatures.append(data[:, i:i+251])\n",
    "\n",
    "edgefeatures = np.array(edgefeatures)  # Convert the list to a NumPy array\n"
   ]
  },
  {
   "cell_type": "code",
   "execution_count": 42,
   "metadata": {},
   "outputs": [
    {
     "data": {
      "text/plain": [
       "(1915, 17, 251)"
      ]
     },
     "execution_count": 42,
     "metadata": {},
     "output_type": "execute_result"
    }
   ],
   "source": [
    "edgefeatures.shape"
   ]
  },
  {
   "cell_type": "code",
   "execution_count": 43,
   "metadata": {},
   "outputs": [
    {
     "name": "stdout",
     "output_type": "stream",
     "text": [
      "Fp1 -0.0294367 0.08391710000000001\n",
      "Fp2 0.029872299999999997 0.0848959\n",
      "F3 -0.0502438 0.0531112\n",
      "F4 0.0518362 0.0543048\n",
      "C3 -0.06535809999999999 -0.0116317\n",
      "C4 0.06711790000000001 -0.0109003\n",
      "P3 -0.0530073 -0.0787878\n",
      "P4 0.0556667 -0.0785602\n",
      "F7 -0.0702629 0.0424743\n",
      "F8 0.0730431 0.0444217\n",
      "T3 -0.0841611 -0.0160187\n",
      "T4 0.0850799 -0.0150203\n",
      "T5 -0.0724343 -0.0734527\n",
      "T6 0.0730557 -0.07306829999999999\n",
      "Fz 0.0003122 0.058512\n",
      "Cz 0.0004009 -0.009167\n",
      "Pz 0.0003247 -0.08111499999999999\n"
     ]
    }
   ],
   "source": [
    "#add embeddings\n",
    "import math\n",
    "import torch\n",
    "\n",
    "def positionalencoding3d(d_model, x, y, z):\n",
    "    if d_model % 6 != 0:\n",
    "        raise ValueError(\"Cannot use sin/cos positional encoding with odd dimension (got dim={:d})\".format(d_model))\n",
    "    \n",
    "    # Calculate the positional encodings for X, Y, and Z separately\n",
    "    x_encoding = torch.sin(x * (2 ** torch.arange(0, d_model, 3) / d_model))\n",
    "    y_encoding = torch.cos(y * (2 ** torch.arange(1, d_model, 3) / d_model))\n",
    "    z_encoding = torch.sin(z * (2 ** torch.arange(2, d_model, 3) / d_model))\n",
    "\n",
    "    # Combine the encodings\n",
    "    position_encoding = x_encoding + y_encoding + z_encoding\n",
    "    \n",
    "    return position_encoding\n",
    "\n",
    "\n",
    "ch_names = montage.ch_names\n",
    "pos = montage.get_positions()\n",
    "\n",
    "# Specify the dimensionality of the encoding\n",
    "d_model = 12\n",
    "embeddings = [] \n",
    "# Calculate the positional encoding\n",
    "for name in raw.ch_names:\n",
    "    x=pos['ch_pos'][name][0]\n",
    "    y=pos['ch_pos'][name][1]\n",
    "    z=pos['ch_pos'][name][2]\n",
    "    print(name,x,y)\n",
    "    position_encoded = positionalencoding3d(d_model,x,y,z)\n",
    "    embeddings.append(position_encoded)\n",
    "\n",
    "embeddings = torch.stack(embeddings)\n"
   ]
  },
  {
   "cell_type": "code",
   "execution_count": 44,
   "metadata": {},
   "outputs": [
    {
     "data": {
      "text/plain": [
       "torch.Size([17, 480665, 5])"
      ]
     },
     "execution_count": 44,
     "metadata": {},
     "output_type": "execute_result"
    }
   ],
   "source": [
    "# add 17 4 to (1915, 17, 250),17, 251, 5\n",
    "edgetensor = torch.from_numpy(edgefeatures).view(17,-1)\n",
    "datapoints_length = edgetensor.shape[-1]\n",
    "\n",
    "electrode_embeddings_expanded = embeddings.unsqueeze(1).expand(-1, datapoints_length, -1)\n",
    "combined_data = torch.cat((electrode_embeddings_expanded, edgetensor.unsqueeze(-1)), dim=2)\n",
    "combined_data.shape"
   ]
  },
  {
   "cell_type": "code",
   "execution_count": 45,
   "metadata": {},
   "outputs": [
    {
     "data": {
      "text/plain": [
       "torch.Size([1915, 17, 251, 5])"
      ]
     },
     "execution_count": 45,
     "metadata": {},
     "output_type": "execute_result"
    }
   ],
   "source": [
    "combined_data.view(1915, 17,-1,5).shape"
   ]
  },
  {
   "cell_type": "code",
   "execution_count": 46,
   "metadata": {},
   "outputs": [],
   "source": [
    "#now reshape to 1915\n",
    "final_edgefeature = combined_data.view(1915, -1)   \n",
    "np.save('gnnbackup/processed/ml_5f.npy', final_edgefeature)"
   ]
  },
  {
   "cell_type": "code",
   "execution_count": 47,
   "metadata": {},
   "outputs": [],
   "source": [
    "new_df.to_csv('gnnbackup/processed/ml_5f.csv', index=False)"
   ]
  },
  {
   "cell_type": "code",
   "execution_count": 48,
   "metadata": {},
   "outputs": [
    {
     "name": "stdout",
     "output_type": "stream",
     "text": [
      "Not setting metadata\n",
      "1915 matching events found\n",
      "No baseline correction applied\n"
     ]
    },
    {
     "name": "stdout",
     "output_type": "stream",
     "text": [
      "Using data from preloaded Raw for 1915 events and 251 original time points ...\n",
      "0 bad epochs dropped\n"
     ]
    }
   ],
   "source": [
    "epochs = mne.Epochs(raw_resampled, events=event_arr, event_id=None, tmin=0, tmax=1, baseline=None, preload=True,proj=False)"
   ]
  },
  {
   "cell_type": "code",
   "execution_count": 49,
   "metadata": {},
   "outputs": [
    {
     "name": "stdout",
     "output_type": "stream",
     "text": [
      "NOTE: pick_channels() is a legacy function. New code should use inst.pick(...).\n",
      "torch.Size([17, 251, 5])\n",
      "torch.Size([21335])\n",
      "NOTE: pick_channels() is a legacy function. New code should use inst.pick(...).\n",
      "torch.Size([17, 251, 5])\n",
      "torch.Size([21335])\n",
      "NOTE: pick_channels() is a legacy function. New code should use inst.pick(...).\n",
      "torch.Size([17, 251, 5])\n",
      "torch.Size([21335])\n",
      "NOTE: pick_channels() is a legacy function. New code should use inst.pick(...).\n",
      "torch.Size([17, 251, 5])\n",
      "torch.Size([21335])\n",
      "NOTE: pick_channels() is a legacy function. New code should use inst.pick(...).\n",
      "torch.Size([17, 251, 5])\n",
      "torch.Size([21335])\n",
      "NOTE: pick_channels() is a legacy function. New code should use inst.pick(...).\n",
      "torch.Size([17, 251, 5])\n",
      "torch.Size([21335])\n",
      "(6, 21335)\n"
     ]
    }
   ],
   "source": [
    "# do node feature which is erps \n",
    "nodefeatures=[]\n",
    "rawerps=[]\n",
    "for event in [0,1,2,3,4,5]:\n",
    "    finger_tensor = torch.from_numpy(epochs[str(event)].average(picks='all').get_data()) \n",
    "    rawerps.append(finger_tensor)\n",
    "    electrode_embeddings=embeddings\n",
    "    electrode_embeddings_expanded = electrode_embeddings.unsqueeze(1).expand(-1, 251, -1)\n",
    "  \n",
    "    combined_feature = torch.cat((electrode_embeddings_expanded, finger_tensor.unsqueeze(-1)), dim=2)\n",
    "    print(combined_feature.shape)\n",
    "    flattened_embeddings = combined_feature.view(-1)\n",
    "    print(flattened_embeddings.shape)\n",
    "    flattened_embeddings_np = flattened_embeddings.detach().numpy()\n",
    "    nodefeatures.append(flattened_embeddings_np)\n",
    "\n",
    "nodefeatures_array = np.array(nodefeatures)\n",
    "erps_array = np.array(rawerps)\n",
    "print(nodefeatures_array.shape)\n",
    "np.save('ml_5f_node.npy', nodefeatures_array)"
   ]
  },
  {
   "cell_type": "code",
   "execution_count": 55,
   "metadata": {},
   "outputs": [
    {
     "data": {
      "text/plain": [
       "(6, 21335)"
      ]
     },
     "execution_count": 55,
     "metadata": {},
     "output_type": "execute_result"
    }
   ],
   "source": [
    "nodefeatures_array.reshape(6,-1).shape\n"
   ]
  },
  {
   "cell_type": "code",
   "execution_count": 56,
   "metadata": {},
   "outputs": [
    {
     "data": {
      "text/plain": [
       "torch.Size([1915, 21335])"
      ]
     },
     "execution_count": 56,
     "metadata": {},
     "output_type": "execute_result"
    }
   ],
   "source": [
    "final_edgefeature.reshape(1915,-1).shape"
   ]
  }
 ],
 "metadata": {
  "kernelspec": {
   "display_name": "Python 3",
   "language": "python",
   "name": "python3"
  },
  "language_info": {
   "codemirror_mode": {
    "name": "ipython",
    "version": 3
   },
   "file_extension": ".py",
   "mimetype": "text/x-python",
   "name": "python",
   "nbconvert_exporter": "python",
   "pygments_lexer": "ipython3",
   "version": "3.9.6"
  },
  "orig_nbformat": 4
 },
 "nbformat": 4,
 "nbformat_minor": 2
}
